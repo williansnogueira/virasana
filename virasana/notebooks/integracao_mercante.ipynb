{
 "cells": [
  {
   "cell_type": "code",
   "execution_count": 10,
   "metadata": {
    "ExecuteTime": {
     "end_time": "2019-11-22T18:02:05.091262Z",
     "start_time": "2019-11-22T18:02:04.952728Z"
    }
   },
   "outputs": [],
   "source": [
    "import json\n",
    "import pymysql\n",
    "import requests\n",
    "import sqlalchemy\n",
    "import sys\n",
    "from collections import defaultdict\n",
    "from datetime import datetime, time, timedelta\n",
    "sys.path.insert(0, '../../../commons/')\n",
    "sys.path.insert(0, '../../../virasana/')\n",
    "from ajna_commons.flask.conf import DATABASE, MONGODB_URI\n",
    "from ajna_commons.flask.conf import VIRASANA_URL, SQL_URI\n",
    "from bson import ObjectId\n",
    "from pymongo import MongoClient\n",
    "from sqlalchemy.orm import sessionmaker\n",
    "\n",
    "\n",
    "db = MongoClient(host=MONGODB_URI)[DATABASE]\n",
    "engine = sqlalchemy.create_engine(SQL_URI)\n",
    "\n",
    "VIRASANA_URL = \"https://ajna.labin.rf08.srf/virasana/\"\n",
    "VIRASANA_URL = \"https://localhost/virasana/\""
   ]
  },
  {
   "cell_type": "code",
   "execution_count": 11,
   "metadata": {
    "ExecuteTime": {
     "end_time": "2019-11-22T18:02:05.835461Z",
     "start_time": "2019-11-22T18:02:05.823600Z"
    }
   },
   "outputs": [
    {
     "name": "stdout",
     "output_type": "stream",
     "text": [
      "2019-11-22  00:00:00 2019-11-22 23:59:59\n"
     ]
    }
   ],
   "source": [
    "diaapesquisar = datetime.today()\n",
    "datainicial = datetime.strftime(datetime.combine(diaapesquisar, time.min), '%Y-%m-%d  %H:%M:%S')\n",
    "datafinal = datetime.strftime(datetime.combine(diaapesquisar, time.max), '%Y-%m-%d %H:%M:%S')\n",
    "print(datainicial, datafinal)"
   ]
  },
  {
   "cell_type": "code",
   "execution_count": 12,
   "metadata": {
    "ExecuteTime": {
     "end_time": "2019-11-22T18:02:06.357130Z",
     "start_time": "2019-11-22T18:02:06.342233Z"
    }
   },
   "outputs": [],
   "source": [
    "def get_conteineres_dia(diaapesquisar):\n",
    "    datainicial = datetime.strftime(datetime.combine(diaapesquisar, time.min), '%Y-%m-%d  %H:%M:%S')\n",
    "    datafinal = datetime.strftime(datetime.combine(diaapesquisar, time.max), '%Y-%m-%d %H:%M:%S')\n",
    "    print(datainicial, datafinal)\n",
    "    params = {'query': \n",
    "          { 'metadata.dataescaneamento': {'$gte': datainicial, '$lte': datafinal},\n",
    "            'metadata.contentType': 'image/jpeg',\n",
    "            'metadata.carga': {'$exists': False}\n",
    "          },\n",
    "          'projection': \n",
    "          {'metadata.numeroinformado': 1,\n",
    "           'metadata.dataescaneamento': 1}\n",
    "         }\n",
    "\n",
    "    r = requests.post(VIRASANA_URL + \"/grid_data\", json=params, verify=False)\n",
    "    listacc = list(r.json())\n",
    "    print(len(listacc))\n",
    "    listanumerocc = set([item['metadata']['numeroinformado'] for item in listacc])\n",
    "    print(len(listanumerocc))\n",
    "    listanumerocc.discard('')\n",
    "    listanumerocc.discard('ERRO')\n",
    "    return listanumerocc\n"
   ]
  },
  {
   "cell_type": "code",
   "execution_count": 13,
   "metadata": {
    "ExecuteTime": {
     "end_time": "2019-11-22T18:02:06.807884Z",
     "start_time": "2019-11-22T18:02:06.784617Z"
    }
   },
   "outputs": [
    {
     "name": "stdout",
     "output_type": "stream",
     "text": [
      "2019-11-22  00:00:00 2019-11-22 23:59:59\n",
      "0\n",
      "0\n"
     ]
    },
    {
     "name": "stderr",
     "output_type": "stream",
     "text": [
      "/home/ivan/pybr/ajna/virasana/virasana-venv/lib/python3.6/site-packages/urllib3/connectionpool.py:1004: InsecureRequestWarning: Unverified HTTPS request is being made. Adding certificate verification is strongly advised. See: https://urllib3.readthedocs.io/en/latest/advanced-usage.html#ssl-warnings\n",
      "  InsecureRequestWarning,\n"
     ]
    }
   ],
   "source": [
    "listanumerocc = get_conteineres_dia(diaapesquisar)"
   ]
  },
  {
   "cell_type": "code",
   "execution_count": 20,
   "metadata": {
    "ExecuteTime": {
     "end_time": "2019-11-22T18:16:28.366370Z",
     "start_time": "2019-11-22T18:16:28.357567Z"
    }
   },
   "outputs": [],
   "source": [
    "lista =  '(\"' + '\", \"'. join(listanumerocc) + '\")'\n",
    "\n",
    "UPDATE_DATAOPERACAO_SQL = \\\n",
    "'UPDATE manifestosresumo'\\\n",
    "' SET dataInicioOperacaoDate = STR_TO_DATE(dataInicioOperacao,\"%Y-%m-%d\")'\\\n",
    "' WHERE dataInicioOperacaoDate IS NULL AND dataInicioOperacao !=\"\";'\n",
    "\n",
    "with engine.connect() as cursor:\n",
    "    sql = sqlalchemy.sql.text(UPDATE_DATAOPERACAO_SQL)\n",
    "    cursor.execute(sql)\n"
   ]
  },
  {
   "cell_type": "code",
   "execution_count": null,
   "metadata": {},
   "outputs": [],
   "source": []
  },
  {
   "cell_type": "code",
   "execution_count": 269,
   "metadata": {},
   "outputs": [],
   "source": [
    "def pesquisa_containers_no_mercante(dia, listanumerocc):\n",
    "    if len(listanumerocc) == 0:\n",
    "        return {}, {}\n",
    "    lista =  '(\"' + '\", \"'. join(listanumerocc) + '\")'\n",
    "    SQL_MANIFESTOS = \\\n",
    "    'SELECT numero, idConteinerVazio FROM conteinervazioresumo c '\\\n",
    "    ' inner join manifestosresumo m on c.manifesto = m.numero'\\\n",
    "    ' where tipoTrafego = %s AND '\\\n",
    "    ' dataInicioOperacaoDate >= %s AND dataInicioOperacaoDate <= %s AND '\\\n",
    "    ' c.idConteinerVazio IN ' + lista\n",
    "\n",
    "    SQL_CONHECIMENTOS = \\\n",
    "    'SELECT c.numeroCEmercante, codigoConteiner FROM itensresumo i'\\\n",
    "    ' inner join conhecimentosresumo c on i.numeroCEmercante = c.numeroCEmercante'\\\n",
    "    ' inner join manifestosresumo m on c.manifestoCE = m.numero'\\\n",
    "    ' WHERE c.tipoBLConhecimento in (\\'10\\', \\'12\\') AND'\\\n",
    "    ' m.tipoTrafego = %s AND'\\\n",
    "    ' dataInicioOperacaoDate >= %s AND dataInicioOperacaoDate <= %s AND '\\\n",
    "    ' i.codigoConteiner IN ' + lista\n",
    "    connection = pymysql.connect(host='mysql.labin.rf08.srf',\n",
    "                                 user='admmerc',\n",
    "                                 password='XXXXXX',\n",
    "                                 db='dbmercante',\n",
    "                                 charset='utf8mb4',\n",
    "                                 cursorclass=pymysql.cursors.DictCursor)\n",
    "    before = diaapesquisar - timedelta(days=5)\n",
    "    before = datetime.strftime(before, '%Y-%m-%d')\n",
    "    today = datetime.strftime(diaapesquisar, '%Y-%m-%d')\n",
    "    after = diaapesquisar + timedelta(days=5)\n",
    "    after = datetime.strftime(after, '%Y-%m-%d')\n",
    "    pesquisas_manifesto = [(5, before, today), (7, today, after)]\n",
    "    manifestos = defaultdict(set)\n",
    "    conhecimentos = defaultdict(set)\n",
    "    try:\n",
    "        with connection.cursor() as cursor:\n",
    "            #cursor.execute(UPDATE_DATAOPERACAO_SQL)\n",
    "            for item in pesquisas_manifesto:\n",
    "                cursor.execute(SQL_MANIFESTOS, item)\n",
    "                result = cursor.fetchall()\n",
    "                print('Manifestos %s' % len(result))\n",
    "                for linha in result:\n",
    "                    manifestos[linha['idConteinerVazio']].add(linha['numero'])\n",
    "                cursor.execute(SQL_CONHECIMENTOS, item)\n",
    "                result = cursor.fetchall()\n",
    "                print('Conhecimentos %s' % len(result))\n",
    "                for linha in result:\n",
    "                    conhecimentos[linha['codigoConteiner']].add(linha['numeroCEmercante'])\n",
    "    finally:\n",
    "        connection.close()\n",
    "    return manifestos, conhecimentos"
   ]
  },
  {
   "cell_type": "code",
   "execution_count": 270,
   "metadata": {},
   "outputs": [
    {
     "name": "stdout",
     "output_type": "stream",
     "text": [
      "2019-11-14  00:00:00 2019-11-14 23:59:59\n",
      "0\n",
      "0\n",
      "2019-11-13  00:00:00 2019-11-13 23:59:59\n",
      "211\n",
      "209\n"
     ]
    },
    {
     "name": "stderr",
     "output_type": "stream",
     "text": [
      "c:\\users\\25052288840\\pycharmprojects\\ajna_docs\\virasana\\venv\\lib\\site-packages\\urllib3\\connectionpool.py:851: InsecureRequestWarning: Unverified HTTPS request is being made. Adding certificate verification is strongly advised. See: https://urllib3.readthedocs.io/en/latest/advanced-usage.html#ssl-warnings\n",
      "  InsecureRequestWarning)\n",
      "c:\\users\\25052288840\\pycharmprojects\\ajna_docs\\virasana\\venv\\lib\\site-packages\\urllib3\\connectionpool.py:851: InsecureRequestWarning: Unverified HTTPS request is being made. Adding certificate verification is strongly advised. See: https://urllib3.readthedocs.io/en/latest/advanced-usage.html#ssl-warnings\n",
      "  InsecureRequestWarning)\n"
     ]
    },
    {
     "name": "stdout",
     "output_type": "stream",
     "text": [
      "Manifestos 45\n",
      "Conhecimentos 8\n",
      "Manifestos 0\n",
      "Conhecimentos 20\n",
      "2019-11-12  00:00:00 2019-11-12 23:59:59\n"
     ]
    },
    {
     "name": "stderr",
     "output_type": "stream",
     "text": [
      "c:\\users\\25052288840\\pycharmprojects\\ajna_docs\\virasana\\venv\\lib\\site-packages\\urllib3\\connectionpool.py:851: InsecureRequestWarning: Unverified HTTPS request is being made. Adding certificate verification is strongly advised. See: https://urllib3.readthedocs.io/en/latest/advanced-usage.html#ssl-warnings\n",
      "  InsecureRequestWarning)\n"
     ]
    },
    {
     "name": "stdout",
     "output_type": "stream",
     "text": [
      "304\n",
      "303\n",
      "Manifestos 152\n",
      "Conhecimentos 11\n",
      "Manifestos 0\n",
      "Conhecimentos 83\n",
      "2019-11-11  00:00:00 2019-11-11 23:59:59\n"
     ]
    },
    {
     "name": "stderr",
     "output_type": "stream",
     "text": [
      "c:\\users\\25052288840\\pycharmprojects\\ajna_docs\\virasana\\venv\\lib\\site-packages\\urllib3\\connectionpool.py:851: InsecureRequestWarning: Unverified HTTPS request is being made. Adding certificate verification is strongly advised. See: https://urllib3.readthedocs.io/en/latest/advanced-usage.html#ssl-warnings\n",
      "  InsecureRequestWarning)\n"
     ]
    },
    {
     "name": "stdout",
     "output_type": "stream",
     "text": [
      "655\n",
      "651\n",
      "Manifestos 27\n",
      "Conhecimentos 45\n",
      "Manifestos 146\n",
      "Conhecimentos 184\n",
      "2019-11-10  00:00:00 2019-11-10 23:59:59\n"
     ]
    },
    {
     "name": "stderr",
     "output_type": "stream",
     "text": [
      "c:\\users\\25052288840\\pycharmprojects\\ajna_docs\\virasana\\venv\\lib\\site-packages\\urllib3\\connectionpool.py:851: InsecureRequestWarning: Unverified HTTPS request is being made. Adding certificate verification is strongly advised. See: https://urllib3.readthedocs.io/en/latest/advanced-usage.html#ssl-warnings\n",
      "  InsecureRequestWarning)\n"
     ]
    },
    {
     "name": "stdout",
     "output_type": "stream",
     "text": [
      "864\n",
      "848\n",
      "Manifestos 0\n",
      "Conhecimentos 0\n",
      "Manifestos 209\n",
      "Conhecimentos 40\n",
      "2019-11-09  00:00:00 2019-11-09 23:59:59\n"
     ]
    },
    {
     "name": "stderr",
     "output_type": "stream",
     "text": [
      "c:\\users\\25052288840\\pycharmprojects\\ajna_docs\\virasana\\venv\\lib\\site-packages\\urllib3\\connectionpool.py:851: InsecureRequestWarning: Unverified HTTPS request is being made. Adding certificate verification is strongly advised. See: https://urllib3.readthedocs.io/en/latest/advanced-usage.html#ssl-warnings\n",
      "  InsecureRequestWarning)\n"
     ]
    },
    {
     "name": "stdout",
     "output_type": "stream",
     "text": [
      "593\n",
      "578\n",
      "Manifestos 0\n",
      "Conhecimentos 0\n",
      "Manifestos 57\n",
      "Conhecimentos 13\n",
      "2019-11-08  00:00:00 2019-11-08 23:59:59\n"
     ]
    },
    {
     "name": "stderr",
     "output_type": "stream",
     "text": [
      "c:\\users\\25052288840\\pycharmprojects\\ajna_docs\\virasana\\venv\\lib\\site-packages\\urllib3\\connectionpool.py:851: InsecureRequestWarning: Unverified HTTPS request is being made. Adding certificate verification is strongly advised. See: https://urllib3.readthedocs.io/en/latest/advanced-usage.html#ssl-warnings\n",
      "  InsecureRequestWarning)\n"
     ]
    },
    {
     "name": "stdout",
     "output_type": "stream",
     "text": [
      "1206\n",
      "1182\n",
      "Manifestos 54\n",
      "Conhecimentos 4\n",
      "Manifestos 12\n",
      "Conhecimentos 66\n",
      "2019-11-07  00:00:00 2019-11-07 23:59:59\n"
     ]
    },
    {
     "name": "stderr",
     "output_type": "stream",
     "text": [
      "c:\\users\\25052288840\\pycharmprojects\\ajna_docs\\virasana\\venv\\lib\\site-packages\\urllib3\\connectionpool.py:851: InsecureRequestWarning: Unverified HTTPS request is being made. Adding certificate verification is strongly advised. See: https://urllib3.readthedocs.io/en/latest/advanced-usage.html#ssl-warnings\n",
      "  InsecureRequestWarning)\n"
     ]
    },
    {
     "name": "stdout",
     "output_type": "stream",
     "text": [
      "1090\n",
      "1071\n",
      "Manifestos 0\n",
      "Conhecimentos 5\n",
      "Manifestos 0\n",
      "Conhecimentos 77\n",
      "2019-11-06  00:00:00 2019-11-06 23:59:59\n"
     ]
    },
    {
     "name": "stderr",
     "output_type": "stream",
     "text": [
      "c:\\users\\25052288840\\pycharmprojects\\ajna_docs\\virasana\\venv\\lib\\site-packages\\urllib3\\connectionpool.py:851: InsecureRequestWarning: Unverified HTTPS request is being made. Adding certificate verification is strongly advised. See: https://urllib3.readthedocs.io/en/latest/advanced-usage.html#ssl-warnings\n",
      "  InsecureRequestWarning)\n"
     ]
    },
    {
     "name": "stdout",
     "output_type": "stream",
     "text": [
      "928\n",
      "897\n",
      "Manifestos 15\n",
      "Conhecimentos 0\n",
      "Manifestos 0\n",
      "Conhecimentos 34\n",
      "2019-11-05  00:00:00 2019-11-05 23:59:59\n"
     ]
    },
    {
     "name": "stderr",
     "output_type": "stream",
     "text": [
      "c:\\users\\25052288840\\pycharmprojects\\ajna_docs\\virasana\\venv\\lib\\site-packages\\urllib3\\connectionpool.py:851: InsecureRequestWarning: Unverified HTTPS request is being made. Adding certificate verification is strongly advised. See: https://urllib3.readthedocs.io/en/latest/advanced-usage.html#ssl-warnings\n",
      "  InsecureRequestWarning)\n"
     ]
    },
    {
     "name": "stdout",
     "output_type": "stream",
     "text": [
      "742\n",
      "728\n",
      "Manifestos 0\n",
      "Conhecimentos 0\n",
      "Manifestos 0\n",
      "Conhecimentos 0\n",
      "2019-11-04  00:00:00 2019-11-04 23:59:59\n"
     ]
    },
    {
     "name": "stderr",
     "output_type": "stream",
     "text": [
      "c:\\users\\25052288840\\pycharmprojects\\ajna_docs\\virasana\\venv\\lib\\site-packages\\urllib3\\connectionpool.py:851: InsecureRequestWarning: Unverified HTTPS request is being made. Adding certificate verification is strongly advised. See: https://urllib3.readthedocs.io/en/latest/advanced-usage.html#ssl-warnings\n",
      "  InsecureRequestWarning)\n"
     ]
    },
    {
     "name": "stdout",
     "output_type": "stream",
     "text": [
      "468\n",
      "458\n",
      "Manifestos 54\n",
      "Conhecimentos 3\n",
      "Manifestos 0\n",
      "Conhecimentos 1\n"
     ]
    }
   ],
   "source": [
    "hoje = datetime.today()\n",
    "manifestos_acum = {}\n",
    "conhecimentos_acum = {}\n",
    "for diasantes in range(11):\n",
    "    diaapesquisar = hoje - timedelta(days=diasantes)\n",
    "    listanumerocc = get_conteineres_dia(diaapesquisar)\n",
    "    manifestos, conhecimentos = pesquisa_containers_no_mercante(diaapesquisar, listanumerocc)\n",
    "    manifestos_acum.update(manifestos)\n",
    "    conhecimentos_acum.update(conhecimentos)"
   ]
  },
  {
   "cell_type": "code",
   "execution_count": 271,
   "metadata": {},
   "outputs": [
    {
     "name": "stdout",
     "output_type": "stream",
     "text": [
      "{'BMOU9728088': {'1819502228943'}, 'CAIU4309197': {'1819502228943'}, 'CAIU4515578': {'1819502228943'}, 'CAIU5529093': {'1819502228943'}, 'CAIU5532538': {'1819502228951'}, 'CAIU5653519': {'1819502228943'}, 'CAIU7936380': {'1819502228943'}, 'CRXU6918603': {'1819502228943'}, 'CRXU6949923': {'1819502228951'}, 'HJMU6092563': {'1819502228943'}, 'NIDU5128150': {'1819502228943'}, 'NIDU5131391': {'1819502228943'}, 'NIDU5147016': {'1819502228943'}, 'NIDU5151525': {'1819502228943'}, 'NIDU5158073': {'1819502228943'}, 'NIDU5160194': {'1819502228943'}, 'NIDU5164970': {'1819502228943'}, 'NIDU5175830': {'1819502228943'}, 'NIDU5182510': {'1819502228943'}, 'NIDU5197526': {'1819502228943'}, 'NIDU5198862': {'1819502228943'}, 'NIDU5201729': {'1819502228943'}, 'NIDU5210799': {'1819502228943'}, 'NIDU5213463': {'1819502228943'}, 'NIDU5217371': {'1819502228943'}, 'NIDU5235523': {'1819502228943'}, 'NIDU6202801': {'1819502228951'}, 'NIDU6206366': {'1819502228951'}, 'NIDU6206427': {'1819502228943'}, 'NIDU6209920': {'1819502228951'}, 'NIDU6210052': {'1819502228943'}, 'NIDU6210176': {'1819502228951'}, 'NIDU6500982': {'1819502228951'}, 'NIDU6504268': {'1819502228951'}, 'NIDU6504972': {'1819502228951'}, 'NIDU6504988': {'1819502228943'}, 'NIDU6508155': {'1819502228943'}, 'NIDU6508556': {'1819502228943'}, 'TCLU1288950': {'1819502228951'}, 'TCLU1289581': {'1819502228951'}, 'TCLU1291932': {'1819502228951'}, 'TCLU1294802': {'1819502228943'}, 'TCLU8800517': {'1819502228943'}, 'TRLU1687033': {'1819502228951'}, 'TRLU1698125': {'1819502228943'}, 'AMCU9263844': {'1819502220730'}, 'AMCU9292565': {'1819502220730'}, 'AMCU9296684': {'1819502220730'}, 'APRU5091150': {'1819502220713'}, 'APRU5098323': {'1819502220730'}, 'APRU5105021': {'1819502220721'}, 'APRU5600719': {'1819502220721'}, 'APRU5738668': {'1819502220713'}, 'APRU5749636': {'1819502220713'}, 'APRU5751398': {'1819502220730'}, 'APRU5756281': {'1819502220730'}, 'APRU5766171': {'1819502220713'}, 'APRU5770187': {'1819502220730'}, 'APRU5780842': {'1819502220730'}, 'APRU5787934': {'1819502220730'}, 'APRU5846214': {'1819502220730'}, 'BMOU9704281': {'1819502220713'}, 'BMOU9768265': {'1819502220730'}, 'CAIU5426731': {'1819502220713'}, 'CAIU5556458': {'1819502220713'}, 'CGMU4831303': {'1819502220721'}, 'CGMU4943999': {'1819502220713'}, 'CGMU4963110': {'1819502220730'}, 'CGMU4986331': {'1819502220713'}, 'CGMU5001620': {'1819502220730'}, 'CGMU5023568': {'1819502220730'}, 'CGMU5042001': {'1819502220721'}, 'CGMU5042629': {'1819502220730'}, 'CGMU5064314': {'1819502220721'}, 'CGMU5074544': {'1819502220730'}, 'CGMU5229693': {'1819502220713'}, 'CGMU5243794': {'1819502220713'}, 'CGMU5247151': {'1819502220730'}, 'CGMU5310779': {'1819502220721'}, 'CGMU5335437': {'1819502220721'}, 'CGMU5337342': {'1819502220730'}, 'CGMU6519948': {'1819502220721'}, 'CGMU6529798': {'1819502220730'}, 'CGMU9284981': {'1819502220730'}, 'CGMU9288457': {'1819502220721'}, 'CGMU9294697': {'1819502220730'}, 'CGMU9347890': {'1819502220713'}, 'CGMU9362087': {'1819502220730'}, 'CGMU9370138': {'1819502220730'}, 'CGMU9387568': {'1819502220713'}, 'CRLU1612059': {'1819502220721'}, 'CRLU1612362': {'1819502220713'}, 'CRSU6091724': {'1819502220721'}, 'CRSU6106716': {'1819502220721'}, 'CRSU6114080': {'1819502220713'}, 'CRSU6116680': {'1819502220730'}, 'CRXU6929439': {'1819502220721'}, 'CXRU1362062': {'1819502220730'}, 'CXRU1527028': {'1819502220730'}, 'CXRU1530844': {'1819502220730'}, 'FSCU5652356': {'1819502220713'}, 'GESU9467048': {'1819502220713'}, 'SEGU9157303': {'1819502220730'}, 'SEGU9685321': {'1819502220713'}, 'TCLU1063660': {'1819502220721'}, 'TCLU1139088': {'1819502220730'}, 'TCLU1155622': {'1819502220730'}, 'TCLU1196431': {'1819502220713'}, 'TEMU9225343': {'1819502220730'}, 'TEMU9249160': {'1819502220730'}, 'TGHU9958213': {'1819502220730'}, 'TRIU8055466': {'1819502220730'}, 'TRIU8516146': {'1819502220713'}, 'TRIU8621820': {'1819502220730'}, 'TRIU8659825': {'1819502220730'}, 'TRIU8680057': {'1819502220730'}, 'TRLU1741788': {'1819502220730'}, 'TTNU8236095': {'1819502220730'}, 'TTNU8287873': {'1819502220730'}, 'TTNU8300321': {'1819502220730'}, 'TTNU8651157': {'1819502220713'}, 'APRU5732947': {'1819502220730'}, 'APRU5856064': {'1819502220713'}, 'CGMU5109189': {'1819502220713'}, 'CGMU5162835': {'1819502220721'}, 'CGMU9402683': {'1819502220721'}, 'CRXU6925773': {'1819502220713'}, 'CXRU1361955': {'1819502220721'}, 'CXRU1558564': {'1819502220713'}, 'HLXU3724742': {'1519502125835'}, 'MRKU6207350': {'1519502182812'}, 'MRKU6462735': {'1519502182855'}, 'MRSU4063277': {'1519502182871'}, 'MRSU4077120': {'1519502182812'}, 'PONU7423761': {'1519502182812'}, 'PONU7826242': {'1519502182812'}, 'TTNU8257800': {'1819502220730'}, 'TTNU8308071': {'1819502220713'}, 'APZU4584133': {'1519702276950'}, 'BSIU4002544': {'1519702253594'}, 'BSIU4003540': {'1519702253594'}, 'BSIU4028404': {'1519702253594'}, 'BSIU4054614': {'1519702253594'}, 'BSIU4059730': {'1519702253594'}, 'CLHU4774497': {'1519702253594'}, 'CLHU4782430': {'1519702253594'}, 'CLHU4807646': {'1519702253594'}, 'CMAU8361241': {'1519702276950'}, 'CPSU4034697': {'1519702253594'}, 'DRYU4041567': {'1519702276950'}, 'ECMU4515465': {'1519702276950'}, 'FSCU4608003': {'1519702253594'}, 'FSCU4717508': {'1519702253594'}, 'FSCU4754409': {'1519702253594'}, 'FSCU4801590': {'1519702253594'}, 'FSCU4852637': {'1519702253594'}, 'GATU4346156': {'1519702253594'}, 'GVCU4059494': {'1519702253594'}, 'HLBU1142391': {'1519702253594'}, 'HLBU1196166': {'1519702253594'}, 'HLBU1256028': {'1519702253594'}, 'HLBU1260389': {'1519702253594'}, 'HLBU1265210': {'1519702253594'}, 'HLBU1395569': {'1519702253594'}, 'HLXU5011015': {'1519702253594'}, 'HLXU5054233': {'1519702253594'}, 'HLXU5062558': {'1519702253594'}, 'HLXU5155938': {'1519702253594'}, 'HLXU5156791': {'1519702253594'}, 'HLXU5159912': {'1519702253594'}, 'HLXU5160235': {'1519702253594'}, 'HLXU5171604': {'1519702253594'}, 'HLXU5206383': {'1519702253594'}, 'HLXU5270818': {'1519702253594'}, 'HLXU5276077': {'1519702253594'}, 'HLXU5288993': {'1519702253594'}, 'HLXU5290856': {'1519702253594'}, 'HLXU5295441': {'1519702253594'}, 'HLXU5296176': {'1519702253594'}, 'HLXU5311244': {'1519702253594'}, 'HLXU5328062': {'1519702253594'}, 'HLXU5364460': {'1519702253594'}, 'MAEU6352665': {'1519702259924'}, 'MAEU6362339': {'1519702259924'}, 'MRKU0015637': {'1519702259924'}, 'MRKU0077876': {'1519702259924'}, 'MRKU0087750': {'1519702259924'}, 'MRKU0140388': {'1519702259924'}, 'MRKU0142420': {'1519702259924'}, 'MRKU0149024': {'1519702259924'}, 'MRKU0156635': {'1519702259924'}, 'MRKU0192334': {'1519702259924'}, 'MRKU0205909': {'1519702259924'}, 'MRKU0214304': {'1519702259924'}, 'MRKU0246699': {'1519702259924'}, 'MRKU0270210': {'1519702259924'}, 'MRKU0275017': {'1519702259924'}, 'MRKU0293160': {'1519702259924'}, 'MRKU0305847': {'1519702259924'}, 'MRKU0399506': {'1519702259924'}, 'MRKU0416990': {'1519702259924'}, 'MRKU0458928': {'1519702259924'}, 'MRKU0484953': {'1519702259924'}, 'MRKU0506163': {'1519702259924'}, 'MRKU0615035': {'1519702259924'}, 'MRKU0660986': {'1519702259924'}, 'MRKU0687950': {'1519702259924'}, 'MRKU0690960': {'1519702259924'}, 'MRKU0743247': {'1519702259924'}, 'MRKU0766176': {'1519702259924'}, 'MRKU0777519': {'1519702259924'}, 'MRKU0862966': {'1519702259924'}, 'MRKU0869657': {'1519702259924'}, 'MRKU0935152': {'1519702259924'}, 'MRKU0943060': {'1519702259924'}, 'MRKU0956480': {'1519702259924'}, 'MRKU0991095': {'1519702259924'}, 'MRKU1011214': {'1519702259924'}, 'MRKU1041327': {'1519702259924'}, 'MRKU1072040': {'1519702259924'}, 'MRKU1085686': {'1519702259924'}, 'MRKU1087293': {'1519702259924'}, 'MRKU1090430': {'1519702259924'}, 'MSKU6166761': {'1519702259924'}, 'MSKU6234974': {'1519702259924'}, 'MSKU6279984': {'1519702259924'}, 'MSKU6286915': {'1519702259924'}, 'MSKU6288190': {'1519702259924'}, 'MSKU6315607': {'1519702259924'}, 'MSKU6347559': {'1519702259924'}, 'MSKU6397837': {'1519702259924'}, 'MSKU6399911': {'1519702259924'}, 'MSKU6432624': {'1519702259924'}, 'MSKU6463918': {'1519702259924'}, 'MSKU6473264': {'1519702259924'}, 'MSKU6480160': {'1519702259924'}, 'MSKU6553734': {'1519702259924'}, 'MSKU6600435': {'1519702259924'}, 'MSKU6624587': {'1519702259924'}, 'MSKU6648418': {'1519702259924'}, 'MSKU6653570': {'1519702259924'}, 'MSKU6668245': {'1519702259924'}, 'MSKU6695981': {'1519702259924'}, 'MSKU6720641': {'1519702259924'}, 'MSKU6739631': {'1519702259924'}, 'MSKU6786464': {'1519702259924'}, 'MSKU6824184': {'1519702259924'}, 'MSKU6843271': {'1519702259924'}, 'TCKU4514478': {'1519702253594'}, 'TCLU4083737': {'1519702276950'}, 'TCLU4144920': {'1519702253594'}, 'TCLU4156957': {'1519702253594'}, 'TCLU4158327': {'1519702253594'}, 'TCLU4723346': {'1519702253594'}, 'TCLU5387924': {'1519702253594'}, 'TCLU8987326': {'1519702253594'}, 'TCLU8993653': {'1519702253594'}, 'TGHU4644462': {'1519702253594'}, 'TGHU4892685': {'1519702253594'}, 'TGHU5031300': {'1519702253594'}, 'TGHU5208885': {'1519702253594'}, 'TRLU8644820': {'1519702253594'}, 'TRLU8711933': {'1519702253594'}, 'TRLU9441452': {'1519702253594'}, 'TRLU9451933': {'1519702253594'}, 'TTNU4442755': {'1519702253594'}, 'TTNU4945209': {'1519702253594'}, 'TTNU5963742': {'1519702253594'}, 'UACU8109058': {'1519702253594'}, 'UACU8171521': {'1519702253594'}, 'UACU8184750': {'1519702253594'}, 'UACU8235375': {'1519702253594'}, 'UACU8239180': {'1519702253594'}, 'UACU8254210': {'1519702253594'}, 'UACU8291893': {'1519702253594'}, 'UACU8315552': {'1519702253594'}, 'UACU8334104': {'1519702253594'}, 'UACU8339240': {'1519702253594'}, 'UACU8361970': {'1519702253594'}, 'UACU8368629': {'1519702253594'}, 'UACU8392245': {'1519702253594'}, 'UACU8408402': {'1519702253594'}, 'UACU8552750': {'1519702253594'}, 'UACU8559899': {'1519702253594'}, 'CADU4004899': {'1519702259924'}, 'CLHU4493870': {'1519702259924'}, 'CLHU4507058': {'1519702259924'}, 'CNIU2157364': {'1519702259924'}, 'GRIU4213302': {'1519702259924'}, 'INBU5120353': {'1519702259924'}, 'INBU5209332': {'1519702259924'}, 'MAEU6178804': {'1519702259924'}, 'MAEU6233542': {'1519702259924'}, 'MAEU6294609': {'1519702259924'}, 'MAEU6313273': {'1519702259924'}, 'MAEU6350791': {'1519702259924'}, 'MRKU0008113': {'1519702259924'}, 'MRKU0018298': {'1519702259924'}, 'MRKU0020398': {'1519702259924'}, 'MRKU0026040': {'1519702259924'}, 'MRKU0031200': {'1519702259924'}, 'MRKU0039433': {'1519702259924'}, 'MRKU0044717': {'1519702259924'}, 'MRKU0048137': {'1519702259924'}, 'MRKU0055861': {'1519702259924'}, 'MRKU0056092': {'1519702259924'}, 'MRKU0061397': {'1519702259924'}, 'MRKU0070362': {'1519702259924'}, 'MRKU0078384': {'1519702259924'}, 'MRKU0080083': {'1519702259924'}, 'MRKU0122379': {'1519702259924'}, 'MRKU0127405': {'1519702259924'}, 'MRKU0129774': {'1519702259924'}, 'MRKU0139073': {'1519702259924'}, 'MRKU0141609': {'1519702259924'}, 'MRKU0147166': {'1519702259924'}, 'MRKU0157436': {'1519702259924'}, 'MRKU0161734': {'1519702259924'}, 'MRKU0184107': {'1519702259924'}, 'MRKU0188680': {'1519702259924'}, 'MRKU0189921': {'1519702259924'}, 'MRKU0205344': {'1519702259924'}, 'MRKU0205494': {'1519702259924'}, 'MRKU0206926': {'1519702259924'}, 'MRKU0213247': {'1519702259924'}, 'MRKU0217860': {'1519702259924'}, 'MRKU0218260': {'1519702259924'}, 'MRKU0244280': {'1519702259924'}, 'MRKU0250528': {'1519702259924'}, 'MRKU0250826': {'1519702259924'}, 'MRKU0253949': {'1519702259924'}, 'MRKU0273837': {'1519702259924'}, 'MRKU0274704': {'1519702259924'}, 'MRKU0278340': {'1519702259924'}, 'MRKU0283141': {'1519702259924'}, 'MRKU0295163': {'1519702259924'}, 'MRKU0306720': {'1519702259924'}, 'MRKU0308358': {'1519702259924'}, 'MRKU0310843': {'1519702259924'}, 'MRKU0314962': {'1519702259924'}, 'MRKU0324913': {'1519702259924'}, 'MRKU0332673': {'1519702259924'}, 'MRKU0336956': {'1519702259924'}, 'MRKU0338136': {'1519702259924'}, 'MRKU0343256': {'1519702259924'}, 'MRKU0358298': {'1519702259924'}, 'MRKU0377003': {'1519702259924'}, 'MRKU0384527': {'1519702259924'}, 'MRKU0397885': {'1519702259924'}, 'MRKU0398270': {'1519702259924'}, 'MRKU0406354': {'1519702259924'}, 'MRKU0438520': {'1519702259924'}, 'MRKU0441611': {'1519702259924'}, 'MRKU0444605': {'1519702259924'}, 'MRKU0449510': {'1519702259924'}, 'MRKU0471318': {'1519702259924'}, 'MRKU0472530': {'1519702259924'}, 'MRKU0474180': {'1519702259924'}, 'MRKU0480285': {'1519702259924'}, 'MRKU0485374': {'1519702259924'}, 'MRKU0490468': {'1519702259924'}, 'MRKU0502445': {'1519702259924'}, 'MRKU0504767': {'1519702259924'}, 'MRKU0506369': {'1519702259924'}, 'MRKU0519258': {'1519702259924'}, 'MRKU0536743': {'1519702259924'}, 'MRKU0553123': {'1519702259924'}, 'MRKU0562803': {'1519702259924'}, 'MRKU0594415': {'1519702259924'}, 'MRKU0596296': {'1519702259924'}, 'MRKU0608550': {'1519702259924'}, 'MRKU0610780': {'1519702259924'}, 'MRKU0611533': {'1519702259924'}, 'MRKU0612545': {'1519702259924'}, 'MRKU0627530': {'1519702259924'}, 'MRKU0628053': {'1519702259924'}, 'MRKU0642473': {'1519702259924'}, 'MRKU0645425': {'1519702259924'}, 'MRKU0654617': {'1519702259924'}, 'MRKU0656585': {'1519702259924'}, 'MRKU0665360': {'1519702259924'}, 'MRKU0665756': {'1519702259924'}, 'MRKU0666114': {'1519702259924'}, 'MRKU0691190': {'1519702259924'}, 'MRKU0693830': {'1519702259924'}, 'MRKU0695241': {'1519702259924'}, 'MRKU0696145': {'1519702259924'}, 'MRKU0703630': {'1519702259924'}, 'MRKU0706794': {'1519702259924'}, 'MRKU0711907': {'1519702259924'}, 'MRKU0724843': {'1519702259924'}, 'MRKU0732915': {'1519702259924'}, 'MRKU0737732': {'1519702259924'}, 'MRKU0743822': {'1519702259924'}, 'MRKU0745949': {'1519702259924'}, 'MRKU0747387': {'1519702259924'}, 'MRKU0760291': {'1519702259924'}, 'MRKU0766371': {'1519702259924'}, 'MRKU0768029': {'1519702259924'}, 'MRKU0770860': {'1519702259924'}, 'MRKU0773133': {'1519702259924'}, 'MRKU0774839': {'1519702259924'}, 'MRKU0777458': {'1519702259924'}, 'MRKU0784863': {'1519702259924'}, 'MRKU0784930': {'1519702259924'}, 'MRKU0832529': {'1519702259924'}, 'MRKU0841407': {'1519702259924'}, 'MRKU0876620': {'1519702259924'}, 'MRKU0879167': {'1519702259924'}, 'MRKU0882561': {'1519702259924'}, 'MRKU0886926': {'1519702259924'}, 'MRKU0892554': {'1519702259924'}, 'MRKU0895949': {'1519702259924'}, 'MRKU0898167': {'1519702259924'}, 'MRKU0919249': {'1519702259924'}, 'MRKU0947560': {'1519702259924'}, 'MRKU0961172': {'1519702259924'}, 'MRKU0968958': {'1519702259924'}, 'MRKU0976336': {'1519702259924'}, 'MRKU0980948': {'1519702259924'}, 'MRKU0986078': {'1519702259924'}, 'MRKU1016290': {'1519702259924'}, 'MRKU1017784': {'1519702259924'}, 'MRKU1028198': {'1519702259924'}, 'MRKU1030019': {'1519702259924'}, 'MRKU1031150': {'1519702259924'}, 'MRKU1067609': {'1519702259924'}, 'MRKU1077715': {'1519702259924'}, 'MRKU1103100': {'1519702259924'}, 'MRKU4672310': {'1519702259924'}, 'MRKU4674416': {'1519702259924'}, 'MRKU4682263': {'1519702259924'}, 'MSKU6002449': {'1519702259924'}, 'MSKU6100698': {'1519702259924'}, 'MSKU6112180': {'1519702259924'}, 'MSKU6115928': {'1519702259924'}, 'MSKU6136176': {'1519702259924'}, 'MSKU6175249': {'1519702259924'}, 'MSKU6176899': {'1519702259924'}, 'MSKU6178628': {'1519702259924'}, 'MSKU6192797': {'1519702259924'}, 'MSKU6204244': {'1519702259924'}, 'MSKU6214432': {'1519702259924'}, 'MSKU6228082': {'1519702259924'}, 'MSKU6237778': {'1519702259924'}, 'MSKU6239620': {'1519702259924'}, 'MSKU6253249': {'1519702259924'}, 'MSKU6266544': {'1519702259924'}, 'MSKU6267896': {'1519702259924'}, 'MSKU6300042': {'1519702259924'}, 'MSKU6305846': {'1519702259924'}, 'MSKU6312439': {'1519702259924'}, 'MSKU6324281': {'1519702259924'}, 'MSKU6325879': {'1519702259924'}, 'MSKU6359797': {'1519702259924'}, 'MSKU6363647': {'1519702259924'}, 'MSKU6369856': {'1519702259924'}, 'MSKU6379263': {'1519702259924'}, 'MSKU6391063': {'1519702259924'}, 'MSKU6434606': {'1519702259924'}, 'MSKU6441272': {'1519702259924'}, 'MSKU6446166': {'1519702259924'}, 'MSKU6446377': {'1519702259924'}, 'MSKU6450150': {'1519702259924'}, 'MSKU6461788': {'1519702259924'}, 'MSKU6494225': {'1519702259924'}, 'MSKU6497482': {'1519702259924'}, 'MSKU6506666': {'1519702259924'}, 'MSKU6508925': {'1519702259924'}, 'MSKU6530092': {'1519702259924'}, 'MSKU6541630': {'1519702259924'}, 'MSKU6562926': {'1519702259924'}, 'MSKU6568502': {'1519702259924'}, 'MSKU6571548': {'1519702259924'}, 'MSKU6579786': {'1519702259924'}, 'MSKU6616811': {'1519702259924'}, 'MSKU6622964': {'1519702259924'}, 'MSKU6624458': {'1519702259924'}, 'MSKU6633866': {'1519702259924'}, 'MSKU6695889': {'1519702259924'}, 'MSKU6745465': {'1519702259924'}, 'MSKU6745716': {'1519702259924'}, 'MSKU6747600': {'1519702259924'}, 'MSKU6763411': {'1519702259924'}, 'MSKU6773528': {'1519702259924'}, 'MSKU6780342': {'1519702259924'}, 'MSKU6803999': {'1519702259924'}, 'MSKU6806112': {'1519702259924'}, 'MSKU6807654': {'1519702259924'}, 'MSKU6820300': {'1519702259924'}, 'MSKU6823188': {'1519702259924'}, 'MSKU6824456': {'1519702259924'}, 'MSKU6834829': {'1519702259924'}, 'APHU7275388': {'1519702276950'}, 'BEAU4848300': {'1519702276950'}, 'BMOU2762922': {'1519702244110'}, 'BMOU2883776': {'1519702244110'}, 'BMOU5876410': {'1519702244110'}, 'BSIU2346962': {'1519702244110'}, 'BSIU2542348': {'1519702244110'}, 'BSIU2543030': {'1519702244110'}, 'BSIU2581909': {'1519702244110'}, 'BSIU2741268': {'1519702244110'}, 'BSIU9283594': {'1519702244110'}, 'CAIU4124995': {'1519702244110'}, 'CAIU4143146': {'1519702252687'}, 'CAIU6164240': {'1519702244110'}, 'CAIU7662926': {'1519702244110'}, 'CMAU4531530': {'1519702276950'}, 'CPSU5120850': {'1519702247209'}, 'DFSU1139910': {'1519702244110'}, 'DFSU4229405': {'1519702244110'}, 'ECMU4627655': {'1519702276950'}, 'FCIU5164250': {'1519702244110'}, 'FCIU5560918': {'1519702244110'}, 'FCIU7266878': {'1519702276950'}, 'FCIU9390337': {'1519702244110'}, 'GAOU2137816': {'1519702244110'}, 'GAOU6164044': {'1519702244110'}, 'GCXU2134439': {'1519702244110'}, 'GCXU5017441': {'1519702244110'}, 'GESU7577679': {'1519702252687'}, 'HDMU2629355': {'1519702244110'}, 'HDMU2636035': {'1519702244110'}, 'HDMU2685132': {'1519702244110'}, 'HDMU2750454': {'1519702244110'}, 'HDMU2779329': {'1519702244110'}, 'HDMU6404676': {'1519702244110'}, 'HDMU6671271': {'1519702244110'}, 'HMMU6012061': {'1519702244110'}, 'HMMU6054616': {'1519702244110'}, 'HMMU6154169': {'1519702244110'}, 'INKU6373180': {'1519702244110'}, 'MOFU0635974': {'1519702252687'}, 'PCIU4644275': {'1519702280923'}, 'QIBU1236609': {'1519702254612'}, 'QIBU1241694': {'1519702254612'}, 'SCZU7825052': {'1519702244110'}, 'TCKU4524769': {'1519702252687'}, 'TCLU4685061': {'1519702252687'}, 'TCNU5047990': {'1519702244110'}, 'TCNU5073094': {'1519702244110'}, 'TCNU8268593': {'1519702276950'}, 'TGBU5200244': {'1519702276950'}, 'TGBU5888991': {'1519702244110'}, 'TLLU2362601': {'1519702244110'}, 'TLLU5284689': {'1519702244110'}, 'TRHU2042663': {'1519702244110'}, 'TTNU0602460': {'1519702252687'}, 'UETU4030812': {'1519702252687'}, 'APZU3088139': {'1519502163567'}, 'APZU3803427': {'1519502163567'}, 'BEAU2023574': {'1519502163567'}, 'CAIU2883288': {'1519502132637'}, 'CMAU0260070': {'1519502163567'}, 'CMAU1316873': {'1519502163567'}, 'FBIU0029759': {'1519502163567'}, 'HASU1078545': {'1519502132637'}, 'HASU1169096': {'1519502132637'}, 'HASU1184465': {'1519502132637'}, 'HASU1228413': {'1519502132637'}, 'HASU1479907': {'1519502132637'}, 'MRKU6517458': {'1519502132637'}, 'MRKU6942170': {'1519502132637'}, 'MRKU7269802': {'1519502132637'}, 'MRKU7377638': {'1519502132637'}, 'MRKU7406931': {'1519502132637'}, 'MRKU8322326': {'1519502132637'}, 'MRKU8399966': {'1519502132637'}, 'MRKU9446430': {'1519502132637'}, 'MRKU9565594': {'1519502132637'}, 'MRKU9811698': {'1519502132637'}, 'MRSU0030228': {'1519502132637'}, 'MSKU2827375': {'1519502132637'}, 'MSKU2886254': {'1519502132637'}, 'MSKU2976300': {'1519502132637'}, 'MSKU3104940': {'1519502132637'}, 'MSKU3203199': {'1519502132637'}, 'MSKU3856450': {'1519502132637'}, 'MSKU3959118': {'1519502132637'}, 'MSKU4080714': {'1519502132637'}, 'MSKU4103609': {'1519502132637'}, 'MSKU4228015': {'1519502132637'}, 'MSKU5025970': {'1519502132637'}, 'MSKU5451949': {'1519502132637'}, 'MSKU5579713': {'1519502132637'}, 'MSKU7263719': {'1519502132637'}, 'MSKU7403657': {'1519502132637'}, 'MSKU7486311': {'1519502132637'}, 'MSKU7888917': {'1519502132637'}, 'PONU0471011': {'1519502132637'}, 'PONU0951751': {'1519502132637'}, 'SUDU1831517': {'1519502132637'}, 'SUDU1923742': {'1519502132637'}, 'SUDU7525659': {'1519502132637'}, 'TCKU2250910': {'1519502163567'}, 'TCLU3540510': {'1519502163567'}, 'TCLU6125359': {'1519502132637'}, 'TCLU9919985': {'1519502132637'}, 'TEMU0985330': {'1519502163567'}, 'TEMU2189239': {'1519502132637'}, 'TEMU3552056': {'1519502132637'}, 'TGHU2870408': {'1519502132637'}, 'TGHU2938067': {'1519502132637'}, 'APHU7092216': {'1519702276950'}, 'APZU4523550': {'1519702276950'}, 'BMOU4353461': {'1519702276950'}, 'BMOU6408202': {'1519702276950'}, 'CMAU5177689': {'1519702276950'}, 'CMAU5977850': {'1519702276950'}, 'CMAU7500337': {'1519702276950'}, 'DFSU6255743': {'1519702276950'}, 'ECMU9902195': {'1519702276950'}, 'SEGU5440737': {'1519702276950'}, 'TCLU6536257': {'1519702276950'}, 'TCNU3451810': {'1519702276950'}, 'BMOU9720430': {'1519502134770'}, 'MORU5807219': {'1519502134770'}, 'NYKU7139403': {'1519502134770'}, 'NYKU7941147': {'1519502134770'}, 'SEGU9251480': {'1519502134770'}, 'SZLU9525754': {'1519502134770'}, 'SZLU9705714': {'1519502134770'}, 'TCLU1069838': {'1519502134770'}, 'TCLU1250804': {'1519502134770'}, 'TEMU9020894': {'1519502134770'}, 'TLLU1124980': {'1519502134770'}, 'TRIU8941680': {'1519502134770'}, 'TTNU8106173': {'1519502134770'}, 'TTNU8130396': {'1519502134770'}, 'TTNU8246278': {'1519502134770'}, 'BEAU4189013': {'1519502126971'}, 'BEAU5076161': {'1519502126971'}, 'BHCU4929688': {'1519502126971'}, 'CAIU5455051': {'1519502099567'}, 'CLHU8882416': {'1519502126971'}, 'FCIU8305520': {'1519502126971'}, 'FCIU8775397': {'1519502126971'}, 'FCIU9198366': {'1519502126971'}, 'FSCU8244912': {'1519502126971'}, 'GESU5583902': {'1519502126971'}, 'GESU5696600': {'1519502126971'}, 'GESU5926344': {'1519502126971'}, 'GESU6197479': {'1519502126971'}, 'HAMU1153204': {'1519502126971'}, 'HLBU1081423': {'1519502126971'}, 'HLBU1685995': {'1519502126971'}, 'HLBU2390793': {'1519502126971'}, 'HLBU2511339': {'1519502126971'}, 'HLXU6439559': {'1519502126971'}, 'HLXU6521163': {'1519502126971'}, 'HLXU6591216': {'1519502126971'}, 'HLXU8135730': {'1519502126971'}, 'HLXU8247283': {'1519502126971'}, 'HLXU8290504': {'1519502126971'}, 'HLXU8323439': {'1519502126971'}, 'JXLU5100321': {'1519502099567'}, 'JXLU5816640': {'1519502099567'}, 'TCLU5345277': {'1519502126971'}, 'TCLU5522639': {'1519502126971'}, 'TCNU7469295': {'1519502126971'}, 'TCNU7972479': {'1519502126971'}, 'TCNU8373710': {'1519502126971'}, 'TCNU9960780': {'1519502126971'}, 'TEMU7404041': {'1519502126971'}, 'TGBU6237090': {'1519502126971'}, 'TGHU6494910': {'1519502126971'}, 'TGHU8193095': {'1519502126971'}, 'TGHU8779532': {'1519502126971'}, 'TLLU5402035': {'1519502126971'}, 'TRIU8100312': {'1519502099567'}, 'UACU5472012': {'1519502126971'}, 'UACU5582909': {'1519502126971'}, 'UACU5656956': {'1519502126971'}, 'ZCSU5110309': {'1519502099567'}, 'ZCSU5128041': {'1519502099567'}, 'ZCSU5129428': {'1519502099567'}, 'ZCSU5844771': {'1519502099567'}, 'ZCSU5851240': {'1519502099567'}, 'ZCSU5853217': {'1519502099567'}, 'ZCSU5860284': {'1519502099567'}, 'ZCSU5864886': {'1519502099567'}, 'ZCSU5866786': {'1519502099567'}, 'ZCSU5866997': {'1519502099567'}, 'ZCSU5966614': {'1519502099567'}}\n"
     ]
    }
   ],
   "source": [
    "print(manifestos_acum)"
   ]
  },
  {
   "cell_type": "code",
   "execution_count": 272,
   "metadata": {},
   "outputs": [
    {
     "name": "stdout",
     "output_type": "stream",
     "text": [
      "{'MAEU4662316': {'181905232182751'}, 'MORU1326956': {'181905231172310'}, 'SUDU2861521': {'181905232182751'}, 'TLLU1107129': {'181905231171934'}, 'ZCSU2583519': {'181905231440773', '181905241325365'}, 'ZCSU2743324': {'181905231440773', '181905241325365'}, 'APZU4787228': {'181907256492000'}, 'CMAU4195590': {'181907256490563'}, 'CMAU4274787': {'181907256491888'}, 'CMAU5101298': {'181907256492930'}, 'HJMU1910081': {'181907256492930'}, 'MNBU0435671': {'181907254797467'}, 'MNBU0462614': {'181907254797467'}, 'MSKU2551137': {'181907254785450'}, 'TCLU1857697': {'181907256491888'}, 'TCLU6486599': {'181907256492930'}, 'TCNU5810782': {'181907256492930'}, 'TCNU6995850': {'181907256492930'}, 'TEMU1042310': {'181907256492000'}, 'TEMU6481932': {'181907256492930'}, 'TEMU7852745': {'181907256492345'}, 'TGHU6345100': {'181907256492264'}, 'TRLU9452987': {'181907256492000'}, 'TTNU8186517': {'181907256492507'}, 'TTNU8250508': {'181907256489980'}, 'UETU5524337': {'181907256492930'}, 'APHU6240181': {'181905239446428'}, 'FSCU8995451': {'181905239446509'}, 'HLXU8781262': {'181905239047647', '181905236775471'}, 'MEDU3585925': {'181905242710300'}, 'SZLU9534400': {'181905231170024'}, 'TCLU1252197': {'181905231170377'}, 'TCNU2665037': {'181905239446509'}, 'TRIU8441638': {'181905231170377'}, 'TRIU8898780': {'181905231170024'}, 'TTNU8410566': {'181905231170024'}, 'APRU5704185': {'181907254493590'}, 'APRU5781730': {'181907256491020'}, 'APRU6141168': {'181907254492941'}, 'APZU3044927': {'181907256492426'}, 'BHCU4988398': {'181907254831401'}, 'CAXU9138843': {'181907254788980'}, 'CGMU5030401': {'181907254493913'}, 'CGMU5069527': {'181907254492437'}, 'CGMU5302921': {'181907254493085'}, 'CMAU1129131': {'181907256492426'}, 'CMAU1332004': {'181907256492426'}, 'CMAU1418324': {'181907256492426'}, 'CMAU1945963': {'181907256492426'}, 'CMAU7232949': {'181907256492264'}, 'CXRU1362118': {'181907256493317'}, 'CXRU1555396': {'181907254492194'}, 'ECMU1946427': {'181907256492426'}, 'GESU6463521': {'181907256492264'}, 'GESU9528776': {'181907254494057'}, 'GVCU2025514': {'181907256492426'}, 'HASU4467200': {'181907254784489'}, 'HJCU2350905': {'181907256492426'}, 'MMAU1100816': {'181907254832637'}, 'MMAU1112890': {'181907254786422'}, 'MMAU1254832': {'181907254789286'}, 'MMAU1282583': {'181907254789952'}, 'MNBU0062135': {'181907254789286'}, 'MNBU0174032': {'181907254796576'}, 'MNBU0174325': {'181907254787909'}, 'MNBU0219559': {'181907254786694'}, 'MNBU0381739': {'181907254786503'}, 'MNBU0396195': {'181907254783083'}, 'MNBU0484594': {'181907254797467'}, 'MNBU0486318': {'181907254830421'}, 'MNBU0509028': {'181907254787828'}, 'MNBU0582820': {'181907254787828'}, 'MNBU3457479': {'181907254797467'}, 'MNBU3507287': {'181907254797467'}, 'MNBU3526820': {'181907254795090'}, 'MNBU3709879': {'181907254830774'}, 'MNBU3710782': {'181907254794956'}, 'MNBU3719861': {'181907254797467'}, 'MNBU9092552': {'181907254786341'}, 'MRKU2341550': {'181907254789790'}, 'MRKU3515174': {'181907254785701'}, 'MRKU6240867': {'181907254797890'}, 'MRKU6402309': {'181907254797890'}, 'MRKU7287977': {'181907254789600'}, 'MRKU8003611': {'181907254789600'}, 'MRKU8103420': {'181907254789600'}, 'MRKU9291657': {'181907254789600'}, 'MRKU9302140': {'181907254789600'}, 'MRSU3167240': {'181907254784489'}, 'MSKU1163369': {'181907254831401'}, 'MSKU1589800': {'181907254797890'}, 'MSKU3219662': {'181907254783830'}, 'MSKU8778107': {'181907254831401'}, 'MSWU9012734': {'181907254787747'}, 'MSWU9091292': {'181907254787828'}, 'MSWU9097644': {'181907254832718'}, 'MWMU6449503': {'181907254797203'}, 'SEGU9534114': {'181907254494219'}, 'SEGU9541411': {'181907254492860'}, 'SUDU5121534': {'181907254832980'}, 'SUDU5122865': {'181907254789952'}, 'SUDU5182000': {'181907254787666'}, 'SUDU5252004': {'181907254832807'}, 'SUDU6104188': {'181907254783407'}, 'SUDU6217409': {'181907254796304'}, 'SUDU8117179': {'181907254787070'}, 'SUDU8936649': {'181907254830693'}, 'SZLU9073016': {'181907254495371'}, 'TCKU6937680': {'181907254784489'}, 'TCLU1148325': {'181907254494308'}, 'TCLU1197037': {'181907254492194'}, 'TCLU1285950': {'181907254494138'}, 'TCNU2566306': {'181907254784489'}, 'TEMU6522970': {'181907254830502'}, 'TEMU9421480': {'181907254494480'}, 'TGHU3381926': {'181907256492426'}, 'TGHU6910155': {'181907254785027'}, 'TRIU8138581': {'181907254493166'}, 'TRIU8610255': {'181907254493247'}, 'BMOU2621694': {'181905236772103'}, 'BMOU9250445': {'181905241555956'}, 'BSIU8015426': {'181905243815106', '181905237508728'}, 'CAIU5445942': {'181905237086203'}, 'CAIU9325919': {'181905244865328', '181905237508990'}, 'CBHU2820490': {'181905240267604'}, 'CMAU8139888': {'181905237768983', '181905247446393'}, 'EXFU5571065': {'181905238405884'}, 'GCXU5107695': {'181905237510625'}, 'GESU9531131': {'181905248208666', '181905237768207'}, 'GLDU5434593': {'151905244918179', '151905245233285'}, 'HDMU5580140': {'181905241367106'}, 'HLBU1334753': {'181905241559439'}, 'HLBU1514230': {'181905247821070', '181905241554550'}, 'MRKU5192070': {'181905232183138'}, 'MRKU8960980': {'181905230517616'}, 'MSKU7949890': {'181905232183219'}, 'MWCU6757091': {'181905239807110'}, 'PCIU8616749': {'181905243821840', '181905237512083'}, 'PCIU8633957': {'181905237509376', '181905244813018'}, 'PCIU8764730': {'181905237509376', '181905244813018'}, 'PCIU9048319': {'181905243821840', '181905237512083'}, 'PCIU9233723': {'181905243774159', '181905237508809'}, 'PCIU9409710': {'181905237509538'}, 'SEGU9381273': {'181905241559358', '181905244899222'}, 'SZLU9443759': {'181905237087870'}, 'TCLU1014774': {'181905241555956'}, 'TCLU2868280': {'181905236772022'}, 'TEMU9557918': {'181905240267604'}, 'TLLU1109862': {'181905237084189'}, 'UACU4037480': {'181905236772022'}, 'UACU8310545': {'151905245158488', '151905244917520'}, 'APHU6488178': {'181907254523928'}, 'APRU5054011': {'181907254493409'}, 'APRU6100873': {'181907254493670'}, 'APRU6115826': {'181907254493751'}, 'BEAU2216167': {'151907255839994'}, 'BMOU5886378': {'151907256687063'}, 'BMOU6436375': {'181907254495886'}, 'BMOU9761851': {'151907256186013'}, 'CAAU5226068': {'181907254784560'}, 'CAIU3548113': {'151907255831314'}, 'CAIU4837363': {'181907255613459'}, 'CAIU4985822': {'151907255838246'}, 'CAIU6723565': {'151907256670845'}, 'CAIU6795225': {'151907255831314'}, 'CAIU7943841': {'151907255825772'}, 'CAIU8107297': {'151907255825772'}, 'CAIU8492470': {'151907255825772'}, 'CAIU8786475': {'181907255613963'}, 'CGMU4928994': {'181907254493832'}, 'CGMU5014442': {'181907256491535'}, 'CMAU4179624': {'181907254495886'}, 'CMAU7159730': {'181907254495886'}, 'CMAU8050403': {'181907254495703'}, 'CPSU6426444': {'151907255825772'}, 'CRSU9009495': {'151907255825772'}, 'CRXU3247991': {'151907256682851'}, 'CXRU1385710': {'181907256491292'}, 'DFSU2927840': {'151907256675219'}, 'DRYU9750879': {'151907255825772'}, 'ECMU2154208': {'181907254495703'}, 'FBIU0302950': {'151907256673860'}, 'FCIU2669994': {'151907255825349'}, 'FCIU3470760': {'151907255825349'}, 'FCIU3850760': {'151907255825349'}, 'FCIU4412177': {'151907255825349'}, 'FCIU4716360': {'151907256679125'}, 'FDCU0177911': {'151907255828879'}, 'FDCU0263218': {'181907254783911'}, 'FSCU7697914': {'151907255748689'}, 'FSCU7768978': {'151907256682851'}, 'FSCU9247367': {'151907255825772'}, 'GESU3666952': {'151907256672031'}, 'GESU6019369': {'181907254785370'}, 'GESU6169380': {'181907254785370'}, 'GLDU9892700': {'151907255839307'}, 'HASU4341887': {'181907254784993'}, 'HASU4374577': {'181907254785370'}, 'HASU4474323': {'181907254783911'}, 'HASU4645679': {'181907254785299'}, 'HASU4670809': {'181907254791426'}, 'HASU4879722': {'181907254784560'}, 'HASU4918032': {'181907254785108'}, 'HASU4990021': {'181907254785370'}, 'HASU5026914': {'181907254785299'}, 'HLBU2596188': {'151907255838750'}, 'HLXU1145510': {'151907255831314'}, 'HLXU1229987': {'151907255825349'}, 'HLXU3275092': {'151907255830695'}, 'HLXU3388503': {'151907255825349'}, 'HLXU8180641': {'151907255825772'}, 'HLXU8541169': {'151907255833872'}, 'HLXU8733433': {'151907255837436'}, 'LNXU7550159': {'151907255839056'}, 'LNXU7556666': {'151907255839218'}, 'MAEU8401835': {'181907254785108'}, 'MEDU4386698': {'151907256686849'}, 'MEDU5017375': {'151907256677939'}, 'MEDU5266336': {'151907256677939'}, 'MEDU5405940': {'151907256677696'}, 'MEDU5583752': {'151907256675219'}, 'MEDU5906351': {'151907256673941'}, 'MEDU6170305': {'151907256683823'}, 'MEDU6665285': {'151907256678072'}, 'MMAU1039660': {'181907254797386'}, 'MMAU1288010': {'181907254795332'}, 'MNBU0109021': {'181907254830421'}, 'MNBU0144399': {'181907254797467'}, 'MNBU0393621': {'181907254795332'}, 'MNBU0574342': {'181907254796495'}, 'MNBU3071212': {'181907254796495'}, 'MNBU3198803': {'181907254795332'}, 'MNBU3359235': {'181907254797114'}, 'MNBU3567373': {'181907254831231'}, 'MNBU3583728': {'181907254797467'}, 'MNBU3928922': {'181907254795332'}, 'MNBU3998133': {'181907254797467'}, 'MNBU9008897': {'181907254792317'}, 'MRKU2065128': {'181907254784993'}, 'MRKU2460776': {'181907254791426'}, 'MRKU2469310': {'181907254784993'}, 'MRKU2989271': {'181907254791345'}, 'MRKU3479204': {'181907254791426'}, 'MRKU3613062': {'181907254785108'}, 'MRKU3707794': {'181907254785370'}, 'MRKU3854481': {'181907254784055'}, 'MRKU3918945': {'181907254784993'}, 'MRKU4079096': {'181907254785370'}, 'MRKU4138291': {'181907254785108'}, 'MRKU4148453': {'181907254785108'}, 'MRKU4302764': {'181907254791426'}, 'MRKU4728277': {'181907254832475'}, 'MRKU4993584': {'181907254784560'}, 'MRKU5077760': {'181907254784993'}, 'MRKU5149109': {'181907254791345'}, 'MRKU5666077': {'181907254784993'}, 'MRKU5681370': {'181907254785370'}, 'MRKU5848976': {'181907254785299'}, 'MRKU6103231': {'181907254785370'}, 'MRKU7305509': {'181907254789367'}, 'MRSU4177367': {'181907254791426'}, 'MSCU5116746': {'151907256686920'}, 'MSCU5180690': {'151907256681880'}, 'MSDU1013260': {'151907256677939'}, 'MSDU1184469': {'151907256677939'}, 'MSDU7597304': {'151907256681960'}, 'MSKU0020379': {'181907254791345'}, 'MSKU0175663': {'181907254784993'}, 'MSKU0194642': {'181907254785299'}, 'MSKU0250469': {'181907254785108'}, 'MSKU0893763': {'181907254785299'}, 'MSKU0936335': {'181907254784993'}, 'MSKU0940551': {'181907254784993'}, 'MSKU2777314': {'151907257117929'}, 'MSKU5580442': {'181907254789367'}, 'MSKU8019013': {'181907254785108'}, 'MSKU8147591': {'181907254791345'}, 'MSKU9107660': {'181907254832475'}, 'MSKU9227500': {'181907254785299'}, 'MSKU9279308': {'181907254785108'}, 'MSKU9328974': {'181907254785299'}, 'MSKU9903610': {'181907254784993'}, 'MWCU5235596': {'181907254795332'}, 'MWCU5325452': {'181907254793550'}, 'MWCU6780867': {'181907254783245'}, 'PONU0660761': {'181907254789367'}, 'PONU2092531': {'181907254789367'}, 'PONU7530456': {'181907254830260'}, 'PONU7694228': {'181907254785299'}, 'PONU8198182': {'181907254784993'}, 'SEGU2786691': {'151907256677939'}, 'SEGU4118388': {'181907255613378'}, 'SEGU9288617': {'151907256681294'}, 'SUDU5244483': {'181907254783679'}, 'SUDU5270374': {'181907254792155'}, 'SUDU5938078': {'181907254784055'}, 'SUDU6273090': {'181907254783407'}, 'SUDU6644294': {'181907254785299'}, 'SUDU8884191': {'181907254785108'}, 'SZLU9289216': {'151907256685796'}, 'SZLU9417580': {'151907256185637'}, 'SZLU9504047': {'151907256686253'}, 'TCKU1252841': {'151907256673860'}, 'TCKU2562327': {'151907255825349'}, 'TCKU6888902': {'181907254790454'}, 'TCLU2920984': {'151907255825349'}, 'TCLU7748923': {'151907256684048'}, 'TCLU8009086': {'181907254785299'}, 'TCLU9501980': {'151907255825772'}, 'TCNU1801308': {'181907254785370'}, 'TCNU2573440': {'181907254784560'}, 'TCNU2798111': {'181907254784560'}, 'TCNU3306664': {'181907254495886'}, 'TEMU1458930': {'151907255834178'}, 'TGCU2151258': {'151907256677262'}, 'TGHU2642959': {'181907254789367'}, 'TGHU6052523': {'181907254495533'}, 'TGHU8147802': {'151907256684048'}, 'TGHU9924661': {'151907256672708'}, 'TLLU2514005': {'151907255832477'}, 'TLLU2553104': {'151907255829921'}, 'TLLU5973158': {'181907254784136'}, 'TRHU2147469': {'151907256671817'}, 'TRIU8514945': {'181907256490482'}, 'TRLU7330125': {'151907255825772'}, 'TRLU7629688': {'181907254791426'}, 'TRLU7655012': {'181907254785370'}, 'TRLU9105890': {'151907255825349'}, 'TTNU8361013': {'151907256685109'}, 'UACU3944721': {'151907255831314'}, 'UACU4069276': {'151907255831829'}, 'UACU6066492': {'151907255831748'}, 'UACU8314181': {'151907255748840'}, 'UACU8562085': {'151907255748840'}, 'UETU2781563': {'151907255834178'}, 'BMOU6430844': {'151907255827805'}, 'CAIU4985083': {'151907255832710'}, 'CRXU6953733': {'151907256689198'}, 'CRXU9551511': {'151907256684986'}, 'DRYU9351375': {'151907256684986'}, 'FCIU5884516': {'151907256670411'}, 'FSCU6488951': {'151907256684986'}, 'FSCU8328340': {'151907256684986'}, 'FSCU9821407': {'151907256684986'}, 'HLBU1338316': {'151907255838084'}, 'HLBU2124730': {'151907255832710'}, 'HLXU8207439': {'151907255826078'}, 'HLXU8342130': {'151907255828950'}, 'HLXU8457886': {'151907255835069'}, 'INKU6696541': {'151907256684986'}, 'MEDU2282457': {'151907256670411'}, 'MEDU2615157': {'151907256686172'}, 'MEDU4747018': {'151907256686504'}, 'MEDU4862285': {'151907256684986'}, 'MEDU7635264': {'151907256684986'}, 'MEDU8129390': {'151907256684986'}, 'MEDU8495146': {'151907256684986'}, 'MEDU8792294': {'151907256684986'}, 'MSCU3193851': {'151907256677424'}, 'MSCU6891861': {'151907256677505'}, 'MSCU9293267': {'151907256684986'}, 'MSCU9435063': {'151907256684986'}, 'MSDU7504045': {'151907256684986'}, 'SEGU5624420': {'151907255828879'}, 'SEGU9457893': {'151907256671493'}, 'TCLU6219801': {'151907255828879'}, 'TGBU6065175': {'151907255832710'}, 'TRHU2423839': {'151907256677424'}, 'TTNU8711739': {'151907256681707'}, 'UACU3639610': {'151907255838084'}, 'UACU3877768': {'151907255837940'}, 'UACU4734611': {'151907255828798'}, 'UACU5880502': {'151907255828879'}, 'UACU5961040': {'151907255826078'}, 'UETU2342160': {'151907255837940'}, 'BMOU5483080': {'151907255828950'}, 'DHDU1275697': {'151907257118143'}, 'DHDU1681309': {'151907257118143'}, 'DHDU1870093': {'151907257118143'}, 'DHIU1575202': {'151907257118143'}, 'FCIU7044361': {'151907255828950'}, 'FSCU5672223': {'151907255828100'}, 'GESU5640793': {'151907255828950'}, 'MSDU7581503': {'151907256679206'}, 'RGTU1001030': {'151907256676533'}, 'SEGU5835444': {'151907255828950'}, 'TGHU9856145': {'151907255828950'}, 'UTTU2611653': {'151907257118143'}, 'CAIU2040318': {'151905239553214'}, 'MSKU3106537': {'151905239000550'}, 'TLLU2272339': {'151905244231025', '151905239009425'}, 'ACLU2192299': {'151907253263840'}, 'ACLU2194990': {'151907253263840'}, 'ACLU2196479': {'151907253263840'}, 'ACLU2196885': {'151907253263840'}, 'APZU3756428': {'151907255722108'}, 'BMOU4259970': {'151907253420023'}, 'CAIU8485790': {'151907253420457'}, 'CMAU7496073': {'151907255724909'}, 'CMAU8017540': {'151907254349772'}, 'CSVU7508212': {'151907253419289'}, 'DFSU6640586': {'151907253420023'}, 'ECMU9930793': {'151907255724909'}, 'FCIU4137856': {'151907252229109'}, 'FCIU6214400': {'151907253417901'}, 'FDCU0188006': {'151907253418711'}, 'FDCU0370920': {'151907252812912'}, 'FSCU7105975': {'151907253420376'}, 'FSCU8096564': {'151907256604702', '151907252227912'}, 'GCXU2117318': {'151907252272624'}, 'GESU9525437': {'151907253419106'}, 'HASU4686256': {'151907252856707'}, 'HDMU2733143': {'151907252272624'}, 'HDMU2815046': {'151907252272543'}, 'HLBU2660327': {'151907253418711'}, 'HLBU2690790': {'151907253420457'}, 'HLBU9155100': {'151907253419874'}, 'HLBU9201588': {'151907253419289'}, 'HLXU8464798': {'151907253420457'}, 'MRSU3614903': {'151907253924331'}, 'PONU8128776': {'151907253924412'}, 'TCKU4717310': {'151907253420295'}, 'TCLU1704785': {'151907253919176'}, 'TCLU4084190': {'151907254349772'}, 'TCLU4467706': {'151907253419521'}, 'TCLU4758614': {'151907253420295'}, 'TCLU5594238': {'151907253420023'}, 'TCLU9193167': {'151907253420295'}, 'TCNU2975602': {'151907253923440'}, 'TCNU5330546': {'151907252780107'}, 'TCNU8710473': {'151907253420023'}, 'TCNU9398776': {'151907253420023'}, 'TEMU1043321': {'151907256604702', '151907252227912'}, 'TEMU1339313': {'151907252272896'}, 'TEMU7519098': {'151907253420376'}, 'TEMU7579219': {'151907255703316'}, 'TEMU7808850': {'151907253418550'}, 'TGBU5748942': {'151907253419602'}, 'TGBU6344610': {'151907252272977'}, 'TGHU8655280': {'151907253420376'}, 'TLLU4442917': {'151907252778471'}, 'TLLU4783277': {'151907256604702', '151907252227912'}, 'TRHU1499110': {'151907253418800'}, 'TRIU0526425': {'151907252178520'}, 'TRLU8728854': {'151907253419521'}, 'UACU3832758': {'151907253417235'}, 'UACU5515876': {'151907253420457'}, 'UACU5655667': {'151907253420023'}, 'UACU5998563': {'151907253418045'}, 'UACU6004058': {'151907253420376'}, 'UACU8185079': {'151907253419521'}, 'ZIMU1066845': {'151907252229109'}, 'ZIMU1161821': {'151907252229109'}, 'ZIMU3078505': {'151907252229885'}, 'CMAU4008961': {'151905242095345', '151905242576955'}, 'ECMU4716829': {'151905242134421'}, 'MSKU0990790': {'151905243041117'}, 'SUDU7536416': {'151905241409338'}, 'AMCU9260721': {'151907255707222'}, 'BEAU5040019': {'151907252178873'}, 'BMOU2291503': {'151907252229370'}, 'BMOU5252162': {'151907253417073'}, 'BSIU2557923': {'151907252228994'}, 'CAIU8103882': {'151907253418045'}, 'CAXU7461820': {'151907253420295'}, 'CGMU5094448': {'151907255707303'}, 'CGMU9280570': {'151907255706250'}, 'CMAU8175231': {'151907254349772'}, 'CMAU8276999': {'151907254349772'}, 'CMAU8379955': {'151907254349772'}, 'CNCU1600706': {'151907255706501'}, 'CPSU5166091': {'151907253418630'}, 'CRXU8666270': {'151907253416859'}, 'CRXU8689152': {'151907253416859'}, 'CRXU8692449': {'151907253416859'}, 'CXRU1262660': {'151907255704800'}, 'EXFU0615073': {'151907253416859'}, 'FCIU2860608': {'151907253417669'}, 'FCIU7040290': {'151907253417073'}, 'FSCU8155409': {'151907252178601'}, 'FSCU9185239': {'151907253418045'}, 'GESU1153288': {'151907253419440'}, 'GESU2035715': {'151907255702930'}, 'GESU6508267': {'151907253418045'}, 'GESU8027635': {'151907253416859'}, 'GESU9485967': {'151907253416930'}, 'HGTU4612481': {'151907251239127'}, 'HGTU4624883': {'151907251239127'}, 'HGTU4631856': {'151907251239127'}, 'HLBU1969585': {'151907253417073'}, 'HLXU5180252': {'151907253868679'}, 'HLXU5253560': {'151907253419521'}, 'HLXU5394866': {'151907253419521'}, 'SEGU9648478': {'151907255704800'}, 'SIMU2400857': {'151907253416859'}, 'SIMU2435663': {'151907253416859'}, 'SIMU2596565': {'151907253416859'}, 'SVSU2400136': {'151907253416859'}, 'TCKU4729096': {'151907253419521'}, 'TCLU1171773': {'151907253417740'}, 'TCLU8977333': {'151907253419521'}, 'TCLU9030088': {'151907253416859'}, 'TCNU9238438': {'151907253418045'}, 'TCNU9941950': {'151907253418045'}, 'TEMU4078471': {'151907252228560'}, 'TGHU0111779': {'151907253917203'}, 'TGHU0849612': {'151907253417405'}, 'TGHU9010049': {'151907253420538'}, 'TRHU3056255': {'151907252229370'}, 'TRLU1715578': {'151907253417316'}, 'TTNU4940676': {'151907253420295'}, 'UACU2416680': {'151907253418479'}, 'UACU3381952': {'151907253416778'}, 'UACU3638439': {'151907253416778'}, 'UACU5102487': {'151907253418126'}, 'UACU5126977': {'151907253418045'}, 'UACU5330635': {'151907253418045'}, 'UACU8167537': {'151907253419521'}, 'UACU8198923': {'151907253419521'}, 'UACU8243935': {'151907253419521'}, 'UACU8272379': {'151907253419955'}, 'UACU8294249': {'151907253419521'}, 'UACU8361590': {'151907253419521'}, 'UACU8458300': {'151907253419521'}, 'UACU8489493': {'151907253419521'}, 'UACU8526616': {'151907253419521'}, 'UACU8607343': {'151907253419521'}, 'ZCSU8960918': {'151907252178954'}, 'ZIMU1294589': {'151907252229370'}, 'ZIMU1335950': {'151907251239046'}, 'ZIMU2855215': {'151907252228218'}, 'APZU3818303': {'151907254340473'}, 'DFSU2058160': {'151907254340392'}, 'DFSU6493567': {'151907252778129'}, 'DRYU4040792': {'151907254349772'}, 'FCIU4104195': {'151907252228641'}, 'FCIU4138045': {'151907252229451'}, 'GESU3300881': {'151907254340473'}, 'GLDU5274704': {'151907252228803'}, 'HGTU4619260': {'151907251239208'}, 'HGTU4634080': {'151907251239208'}, 'HLBU1212230': {'151907253416697'}, 'IPXU3017244': {'151907254340392'}, 'LNXU8455304': {'151907253418983'}, 'SEGU2152233': {'151907252229613'}, 'SWTU2252630': {'151907253419793'}, 'TCNU8756849': {'151907252778129'}, 'TEMU1873946': {'151907252228480'}, 'TEMU2518000': {'151907254350940'}, 'TEMU4804419': {'151907252228722'}, 'TGBU2601201': {'151907252229451'}, 'TGHU1347732': {'151907254340473'}, 'TRHU3228415': {'151907252229028'}, 'TRHU3266987': {'151907252228056'}, 'UACU3782868': {'151907253416697'}, 'UESU2377162': {'151907254340473'}, 'UTCU4650205': {'151907253419793'}, 'UTCU4656862': {'151907253419793'}, 'ZCSU8916068': {'151907252178792'}, 'ZCSU8949288': {'151907252778129'}, 'ZIMU1006960': {'151907252229702'}, 'ZIMU1401521': {'151907252229532'}, 'ZIMU1404829': {'151907252228056'}, 'ZIMU2922020': {'151907252228056'}, 'ZIMU3061117': {'151907252229290'}, 'HLBU2610748': {'151905238775337'}, 'MRKU6609132': {'151905237961188'}, 'MSKU7554761': {'151905237961188'}, 'TEMU8965983': {'151907250261943'}}\n"
     ]
    }
   ],
   "source": [
    "print(conhecimentos_acum)\n"
   ]
  },
  {
   "cell_type": "code",
   "execution_count": 274,
   "metadata": {},
   "outputs": [
    {
     "name": "stdout",
     "output_type": "stream",
     "text": [
      "{'181905231440773', '181905241325365'}\n",
      "{'181905231440773', '181905241325365'}\n",
      "{'181905239047647', '181905236775471'}\n",
      "{'181905243815106', '181905237508728'}\n",
      "{'181905244865328', '181905237508990'}\n",
      "{'181905237768983', '181905247446393'}\n",
      "{'181905248208666', '181905237768207'}\n",
      "{'151905244918179', '151905245233285'}\n",
      "{'181905247821070', '181905241554550'}\n",
      "{'181905243821840', '181905237512083'}\n",
      "{'181905237509376', '181905244813018'}\n",
      "{'181905237509376', '181905244813018'}\n",
      "{'181905243821840', '181905237512083'}\n",
      "{'181905243774159', '181905237508809'}\n",
      "{'181905241559358', '181905244899222'}\n",
      "{'151905245158488', '151905244917520'}\n",
      "{'151905244231025', '151905239009425'}\n",
      "{'151907256604702', '151907252227912'}\n",
      "{'151907256604702', '151907252227912'}\n",
      "{'151907256604702', '151907252227912'}\n",
      "{'151905242095345', '151905242576955'}\n"
     ]
    }
   ],
   "source": [
    "for key, value in conhecimentos_acum.items():\n",
    "    if len(value) > 1:\n",
    "        print(value)"
   ]
  },
  {
   "cell_type": "code",
   "execution_count": 1,
   "metadata": {
    "ExecuteTime": {
     "end_time": "2019-11-19T12:06:38.396958Z",
     "start_time": "2019-11-19T12:06:38.334887Z"
    }
   },
   "outputs": [],
   "source": [
    "manifestos_acum = {'BMOU9728088': {'1819502228943'}, 'CAIU4309197': {'1819502228943'}, 'CAIU4515578': {'1819502228943'}, 'CAIU5529093': {'1819502228943'}, 'CAIU5532538': {'1819502228951'}, 'CAIU5653519': {'1819502228943'}, 'CAIU7936380': {'1819502228943'}, 'CRXU6918603': {'1819502228943'}, 'CRXU6949923': {'1819502228951'}, 'HJMU6092563': {'1819502228943'}, 'NIDU5128150': {'1819502228943'}, 'NIDU5131391': {'1819502228943'}, 'NIDU5147016': {'1819502228943'}, 'NIDU5151525': {'1819502228943'}, 'NIDU5158073': {'1819502228943'}, 'NIDU5160194': {'1819502228943'}, 'NIDU5164970': {'1819502228943'}, 'NIDU5175830': {'1819502228943'}, 'NIDU5182510': {'1819502228943'}, 'NIDU5197526': {'1819502228943'}, 'NIDU5198862': {'1819502228943'}, 'NIDU5201729': {'1819502228943'}, 'NIDU5210799': {'1819502228943'}, 'NIDU5213463': {'1819502228943'}, 'NIDU5217371': {'1819502228943'}, 'NIDU5235523': {'1819502228943'}, 'NIDU6202801': {'1819502228951'}, 'NIDU6206366': {'1819502228951'}, 'NIDU6206427': {'1819502228943'}, 'NIDU6209920': {'1819502228951'}, 'NIDU6210052': {'1819502228943'}, 'NIDU6210176': {'1819502228951'}, 'NIDU6500982': {'1819502228951'}, 'NIDU6504268': {'1819502228951'}, 'NIDU6504972': {'1819502228951'}, 'NIDU6504988': {'1819502228943'}, 'NIDU6508155': {'1819502228943'}, 'NIDU6508556': {'1819502228943'}, 'TCLU1288950': {'1819502228951'}, 'TCLU1289581': {'1819502228951'}, 'TCLU1291932': {'1819502228951'}, 'TCLU1294802': {'1819502228943'}, 'TCLU8800517': {'1819502228943'}, 'TRLU1687033': {'1819502228951'}, 'TRLU1698125': {'1819502228943'}, 'AMCU9263844': {'1819502220730'}, 'AMCU9292565': {'1819502220730'}, 'AMCU9296684': {'1819502220730'}, 'APRU5091150': {'1819502220713'}, 'APRU5098323': {'1819502220730'}, 'APRU5105021': {'1819502220721'}, 'APRU5600719': {'1819502220721'}, 'APRU5738668': {'1819502220713'}, 'APRU5749636': {'1819502220713'}, 'APRU5751398': {'1819502220730'}, 'APRU5756281': {'1819502220730'}, 'APRU5766171': {'1819502220713'}, 'APRU5770187': {'1819502220730'}, 'APRU5780842': {'1819502220730'}, 'APRU5787934': {'1819502220730'}, 'APRU5846214': {'1819502220730'}, 'BMOU9704281': {'1819502220713'}, 'BMOU9768265': {'1819502220730'}, 'CAIU5426731': {'1819502220713'}, 'CAIU5556458': {'1819502220713'}, 'CGMU4831303': {'1819502220721'}, 'CGMU4943999': {'1819502220713'}, 'CGMU4963110': {'1819502220730'}, 'CGMU4986331': {'1819502220713'}, 'CGMU5001620': {'1819502220730'}, 'CGMU5023568': {'1819502220730'}, 'CGMU5042001': {'1819502220721'}, 'CGMU5042629': {'1819502220730'}, 'CGMU5064314': {'1819502220721'}, 'CGMU5074544': {'1819502220730'}, 'CGMU5229693': {'1819502220713'}, 'CGMU5243794': {'1819502220713'}, 'CGMU5247151': {'1819502220730'}, 'CGMU5310779': {'1819502220721'}, 'CGMU5335437': {'1819502220721'}, 'CGMU5337342': {'1819502220730'}, 'CGMU6519948': {'1819502220721'}, 'CGMU6529798': {'1819502220730'}, 'CGMU9284981': {'1819502220730'}, 'CGMU9288457': {'1819502220721'}, 'CGMU9294697': {'1819502220730'}, 'CGMU9347890': {'1819502220713'}, 'CGMU9362087': {'1819502220730'}, 'CGMU9370138': {'1819502220730'}, 'CGMU9387568': {'1819502220713'}, 'CRLU1612059': {'1819502220721'}, 'CRLU1612362': {'1819502220713'}, 'CRSU6091724': {'1819502220721'}, 'CRSU6106716': {'1819502220721'}, 'CRSU6114080': {'1819502220713'}, 'CRSU6116680': {'1819502220730'}, 'CRXU6929439': {'1819502220721'}, 'CXRU1362062': {'1819502220730'}, 'CXRU1527028': {'1819502220730'}, 'CXRU1530844': {'1819502220730'}, 'FSCU5652356': {'1819502220713'}, 'GESU9467048': {'1819502220713'}, 'SEGU9157303': {'1819502220730'}, 'SEGU9685321': {'1819502220713'}, 'TCLU1063660': {'1819502220721'}, 'TCLU1139088': {'1819502220730'}, 'TCLU1155622': {'1819502220730'}, 'TCLU1196431': {'1819502220713'}, 'TEMU9225343': {'1819502220730'}, 'TEMU9249160': {'1819502220730'}, 'TGHU9958213': {'1819502220730'}, 'TRIU8055466': {'1819502220730'}, 'TRIU8516146': {'1819502220713'}, 'TRIU8621820': {'1819502220730'}, 'TRIU8659825': {'1819502220730'}, 'TRIU8680057': {'1819502220730'}, 'TRLU1741788': {'1819502220730'}, 'TTNU8236095': {'1819502220730'}, 'TTNU8287873': {'1819502220730'}, 'TTNU8300321': {'1819502220730'}, 'TTNU8651157': {'1819502220713'}, 'APRU5732947': {'1819502220730'}, 'APRU5856064': {'1819502220713'}, 'CGMU5109189': {'1819502220713'}, 'CGMU5162835': {'1819502220721'}, 'CGMU9402683': {'1819502220721'}, 'CRXU6925773': {'1819502220713'}, 'CXRU1361955': {'1819502220721'}, 'CXRU1558564': {'1819502220713'}, 'HLXU3724742': {'1519502125835'}, 'MRKU6207350': {'1519502182812'}, 'MRKU6462735': {'1519502182855'}, 'MRSU4063277': {'1519502182871'}, 'MRSU4077120': {'1519502182812'}, 'PONU7423761': {'1519502182812'}, 'PONU7826242': {'1519502182812'}, 'TTNU8257800': {'1819502220730'}, 'TTNU8308071': {'1819502220713'}, 'APZU4584133': {'1519702276950'}, 'BSIU4002544': {'1519702253594'}, 'BSIU4003540': {'1519702253594'}, 'BSIU4028404': {'1519702253594'}, 'BSIU4054614': {'1519702253594'}, 'BSIU4059730': {'1519702253594'}, 'CLHU4774497': {'1519702253594'}, 'CLHU4782430': {'1519702253594'}, 'CLHU4807646': {'1519702253594'}, 'CMAU8361241': {'1519702276950'}, 'CPSU4034697': {'1519702253594'}, 'DRYU4041567': {'1519702276950'}, 'ECMU4515465': {'1519702276950'}, 'FSCU4608003': {'1519702253594'}, 'FSCU4717508': {'1519702253594'}, 'FSCU4754409': {'1519702253594'}, 'FSCU4801590': {'1519702253594'}, 'FSCU4852637': {'1519702253594'}, 'GATU4346156': {'1519702253594'}, 'GVCU4059494': {'1519702253594'}, 'HLBU1142391': {'1519702253594'}, 'HLBU1196166': {'1519702253594'}, 'HLBU1256028': {'1519702253594'}, 'HLBU1260389': {'1519702253594'}, 'HLBU1265210': {'1519702253594'}, 'HLBU1395569': {'1519702253594'}, 'HLXU5011015': {'1519702253594'}, 'HLXU5054233': {'1519702253594'}, 'HLXU5062558': {'1519702253594'}, 'HLXU5155938': {'1519702253594'}, 'HLXU5156791': {'1519702253594'}, 'HLXU5159912': {'1519702253594'}, 'HLXU5160235': {'1519702253594'}, 'HLXU5171604': {'1519702253594'}, 'HLXU5206383': {'1519702253594'}, 'HLXU5270818': {'1519702253594'}, 'HLXU5276077': {'1519702253594'}, 'HLXU5288993': {'1519702253594'}, 'HLXU5290856': {'1519702253594'}, 'HLXU5295441': {'1519702253594'}, 'HLXU5296176': {'1519702253594'}, 'HLXU5311244': {'1519702253594'}, 'HLXU5328062': {'1519702253594'}, 'HLXU5364460': {'1519702253594'}, 'MAEU6352665': {'1519702259924'}, 'MAEU6362339': {'1519702259924'}, 'MRKU0015637': {'1519702259924'}, 'MRKU0077876': {'1519702259924'}, 'MRKU0087750': {'1519702259924'}, 'MRKU0140388': {'1519702259924'}, 'MRKU0142420': {'1519702259924'}, 'MRKU0149024': {'1519702259924'}, 'MRKU0156635': {'1519702259924'}, 'MRKU0192334': {'1519702259924'}, 'MRKU0205909': {'1519702259924'}, 'MRKU0214304': {'1519702259924'}, 'MRKU0246699': {'1519702259924'}, 'MRKU0270210': {'1519702259924'}, 'MRKU0275017': {'1519702259924'}, 'MRKU0293160': {'1519702259924'}, 'MRKU0305847': {'1519702259924'}, 'MRKU0399506': {'1519702259924'}, 'MRKU0416990': {'1519702259924'}, 'MRKU0458928': {'1519702259924'}, 'MRKU0484953': {'1519702259924'}, 'MRKU0506163': {'1519702259924'}, 'MRKU0615035': {'1519702259924'}, 'MRKU0660986': {'1519702259924'}, 'MRKU0687950': {'1519702259924'}, 'MRKU0690960': {'1519702259924'}, 'MRKU0743247': {'1519702259924'}, 'MRKU0766176': {'1519702259924'}, 'MRKU0777519': {'1519702259924'}, 'MRKU0862966': {'1519702259924'}, 'MRKU0869657': {'1519702259924'}, 'MRKU0935152': {'1519702259924'}, 'MRKU0943060': {'1519702259924'}, 'MRKU0956480': {'1519702259924'}, 'MRKU0991095': {'1519702259924'}, 'MRKU1011214': {'1519702259924'}, 'MRKU1041327': {'1519702259924'}, 'MRKU1072040': {'1519702259924'}, 'MRKU1085686': {'1519702259924'}, 'MRKU1087293': {'1519702259924'}, 'MRKU1090430': {'1519702259924'}, 'MSKU6166761': {'1519702259924'}, 'MSKU6234974': {'1519702259924'}, 'MSKU6279984': {'1519702259924'}, 'MSKU6286915': {'1519702259924'}, 'MSKU6288190': {'1519702259924'}, 'MSKU6315607': {'1519702259924'}, 'MSKU6347559': {'1519702259924'}, 'MSKU6397837': {'1519702259924'}, 'MSKU6399911': {'1519702259924'}, 'MSKU6432624': {'1519702259924'}, 'MSKU6463918': {'1519702259924'}, 'MSKU6473264': {'1519702259924'}, 'MSKU6480160': {'1519702259924'}, 'MSKU6553734': {'1519702259924'}, 'MSKU6600435': {'1519702259924'}, 'MSKU6624587': {'1519702259924'}, 'MSKU6648418': {'1519702259924'}, 'MSKU6653570': {'1519702259924'}, 'MSKU6668245': {'1519702259924'}, 'MSKU6695981': {'1519702259924'}, 'MSKU6720641': {'1519702259924'}, 'MSKU6739631': {'1519702259924'}, 'MSKU6786464': {'1519702259924'}, 'MSKU6824184': {'1519702259924'}, 'MSKU6843271': {'1519702259924'}, 'TCKU4514478': {'1519702253594'}, 'TCLU4083737': {'1519702276950'}, 'TCLU4144920': {'1519702253594'}, 'TCLU4156957': {'1519702253594'}, 'TCLU4158327': {'1519702253594'}, 'TCLU4723346': {'1519702253594'}, 'TCLU5387924': {'1519702253594'}, 'TCLU8987326': {'1519702253594'}, 'TCLU8993653': {'1519702253594'}, 'TGHU4644462': {'1519702253594'}, 'TGHU4892685': {'1519702253594'}, 'TGHU5031300': {'1519702253594'}, 'TGHU5208885': {'1519702253594'}, 'TRLU8644820': {'1519702253594'}, 'TRLU8711933': {'1519702253594'}, 'TRLU9441452': {'1519702253594'}, 'TRLU9451933': {'1519702253594'}, 'TTNU4442755': {'1519702253594'}, 'TTNU4945209': {'1519702253594'}, 'TTNU5963742': {'1519702253594'}, 'UACU8109058': {'1519702253594'}, 'UACU8171521': {'1519702253594'}, 'UACU8184750': {'1519702253594'}, 'UACU8235375': {'1519702253594'}, 'UACU8239180': {'1519702253594'}, 'UACU8254210': {'1519702253594'}, 'UACU8291893': {'1519702253594'}, 'UACU8315552': {'1519702253594'}, 'UACU8334104': {'1519702253594'}, 'UACU8339240': {'1519702253594'}, 'UACU8361970': {'1519702253594'}, 'UACU8368629': {'1519702253594'}, 'UACU8392245': {'1519702253594'}, 'UACU8408402': {'1519702253594'}, 'UACU8552750': {'1519702253594'}, 'UACU8559899': {'1519702253594'}, 'CADU4004899': {'1519702259924'}, 'CLHU4493870': {'1519702259924'}, 'CLHU4507058': {'1519702259924'}, 'CNIU2157364': {'1519702259924'}, 'GRIU4213302': {'1519702259924'}, 'INBU5120353': {'1519702259924'}, 'INBU5209332': {'1519702259924'}, 'MAEU6178804': {'1519702259924'}, 'MAEU6233542': {'1519702259924'}, 'MAEU6294609': {'1519702259924'}, 'MAEU6313273': {'1519702259924'}, 'MAEU6350791': {'1519702259924'}, 'MRKU0008113': {'1519702259924'}, 'MRKU0018298': {'1519702259924'}, 'MRKU0020398': {'1519702259924'}, 'MRKU0026040': {'1519702259924'}, 'MRKU0031200': {'1519702259924'}, 'MRKU0039433': {'1519702259924'}, 'MRKU0044717': {'1519702259924'}, 'MRKU0048137': {'1519702259924'}, 'MRKU0055861': {'1519702259924'}, 'MRKU0056092': {'1519702259924'}, 'MRKU0061397': {'1519702259924'}, 'MRKU0070362': {'1519702259924'}, 'MRKU0078384': {'1519702259924'}, 'MRKU0080083': {'1519702259924'}, 'MRKU0122379': {'1519702259924'}, 'MRKU0127405': {'1519702259924'}, 'MRKU0129774': {'1519702259924'}, 'MRKU0139073': {'1519702259924'}, 'MRKU0141609': {'1519702259924'}, 'MRKU0147166': {'1519702259924'}, 'MRKU0157436': {'1519702259924'}, 'MRKU0161734': {'1519702259924'}, 'MRKU0184107': {'1519702259924'}, 'MRKU0188680': {'1519702259924'}, 'MRKU0189921': {'1519702259924'}, 'MRKU0205344': {'1519702259924'}, 'MRKU0205494': {'1519702259924'}, 'MRKU0206926': {'1519702259924'}, 'MRKU0213247': {'1519702259924'}, 'MRKU0217860': {'1519702259924'}, 'MRKU0218260': {'1519702259924'}, 'MRKU0244280': {'1519702259924'}, 'MRKU0250528': {'1519702259924'}, 'MRKU0250826': {'1519702259924'}, 'MRKU0253949': {'1519702259924'}, 'MRKU0273837': {'1519702259924'}, 'MRKU0274704': {'1519702259924'}, 'MRKU0278340': {'1519702259924'}, 'MRKU0283141': {'1519702259924'}, 'MRKU0295163': {'1519702259924'}, 'MRKU0306720': {'1519702259924'}, 'MRKU0308358': {'1519702259924'}, 'MRKU0310843': {'1519702259924'}, 'MRKU0314962': {'1519702259924'}, 'MRKU0324913': {'1519702259924'}, 'MRKU0332673': {'1519702259924'}, 'MRKU0336956': {'1519702259924'}, 'MRKU0338136': {'1519702259924'}, 'MRKU0343256': {'1519702259924'}, 'MRKU0358298': {'1519702259924'}, 'MRKU0377003': {'1519702259924'}, 'MRKU0384527': {'1519702259924'}, 'MRKU0397885': {'1519702259924'}, 'MRKU0398270': {'1519702259924'}, 'MRKU0406354': {'1519702259924'}, 'MRKU0438520': {'1519702259924'}, 'MRKU0441611': {'1519702259924'}, 'MRKU0444605': {'1519702259924'}, 'MRKU0449510': {'1519702259924'}, 'MRKU0471318': {'1519702259924'}, 'MRKU0472530': {'1519702259924'}, 'MRKU0474180': {'1519702259924'}, 'MRKU0480285': {'1519702259924'}, 'MRKU0485374': {'1519702259924'}, 'MRKU0490468': {'1519702259924'}, 'MRKU0502445': {'1519702259924'}, 'MRKU0504767': {'1519702259924'}, 'MRKU0506369': {'1519702259924'}, 'MRKU0519258': {'1519702259924'}, 'MRKU0536743': {'1519702259924'}, 'MRKU0553123': {'1519702259924'}, 'MRKU0562803': {'1519702259924'}, 'MRKU0594415': {'1519702259924'}, 'MRKU0596296': {'1519702259924'}, 'MRKU0608550': {'1519702259924'}, 'MRKU0610780': {'1519702259924'}, 'MRKU0611533': {'1519702259924'}, 'MRKU0612545': {'1519702259924'}, 'MRKU0627530': {'1519702259924'}, 'MRKU0628053': {'1519702259924'}, 'MRKU0642473': {'1519702259924'}, 'MRKU0645425': {'1519702259924'}, 'MRKU0654617': {'1519702259924'}, 'MRKU0656585': {'1519702259924'}, 'MRKU0665360': {'1519702259924'}, 'MRKU0665756': {'1519702259924'}, 'MRKU0666114': {'1519702259924'}, 'MRKU0691190': {'1519702259924'}, 'MRKU0693830': {'1519702259924'}, 'MRKU0695241': {'1519702259924'}, 'MRKU0696145': {'1519702259924'}, 'MRKU0703630': {'1519702259924'}, 'MRKU0706794': {'1519702259924'}, 'MRKU0711907': {'1519702259924'}, 'MRKU0724843': {'1519702259924'}, 'MRKU0732915': {'1519702259924'}, 'MRKU0737732': {'1519702259924'}, 'MRKU0743822': {'1519702259924'}, 'MRKU0745949': {'1519702259924'}, 'MRKU0747387': {'1519702259924'}, 'MRKU0760291': {'1519702259924'}, 'MRKU0766371': {'1519702259924'}, 'MRKU0768029': {'1519702259924'}, 'MRKU0770860': {'1519702259924'}, 'MRKU0773133': {'1519702259924'}, 'MRKU0774839': {'1519702259924'}, 'MRKU0777458': {'1519702259924'}, 'MRKU0784863': {'1519702259924'}, 'MRKU0784930': {'1519702259924'}, 'MRKU0832529': {'1519702259924'}, 'MRKU0841407': {'1519702259924'}, 'MRKU0876620': {'1519702259924'}, 'MRKU0879167': {'1519702259924'}, 'MRKU0882561': {'1519702259924'}, 'MRKU0886926': {'1519702259924'}, 'MRKU0892554': {'1519702259924'}, 'MRKU0895949': {'1519702259924'}, 'MRKU0898167': {'1519702259924'}, 'MRKU0919249': {'1519702259924'}, 'MRKU0947560': {'1519702259924'}, 'MRKU0961172': {'1519702259924'}, 'MRKU0968958': {'1519702259924'}, 'MRKU0976336': {'1519702259924'}, 'MRKU0980948': {'1519702259924'}, 'MRKU0986078': {'1519702259924'}, 'MRKU1016290': {'1519702259924'}, 'MRKU1017784': {'1519702259924'}, 'MRKU1028198': {'1519702259924'}, 'MRKU1030019': {'1519702259924'}, 'MRKU1031150': {'1519702259924'}, 'MRKU1067609': {'1519702259924'}, 'MRKU1077715': {'1519702259924'}, 'MRKU1103100': {'1519702259924'}, 'MRKU4672310': {'1519702259924'}, 'MRKU4674416': {'1519702259924'}, 'MRKU4682263': {'1519702259924'}, 'MSKU6002449': {'1519702259924'}, 'MSKU6100698': {'1519702259924'}, 'MSKU6112180': {'1519702259924'}, 'MSKU6115928': {'1519702259924'}, 'MSKU6136176': {'1519702259924'}, 'MSKU6175249': {'1519702259924'}, 'MSKU6176899': {'1519702259924'}, 'MSKU6178628': {'1519702259924'}, 'MSKU6192797': {'1519702259924'}, 'MSKU6204244': {'1519702259924'}, 'MSKU6214432': {'1519702259924'}, 'MSKU6228082': {'1519702259924'}, 'MSKU6237778': {'1519702259924'}, 'MSKU6239620': {'1519702259924'}, 'MSKU6253249': {'1519702259924'}, 'MSKU6266544': {'1519702259924'}, 'MSKU6267896': {'1519702259924'}, 'MSKU6300042': {'1519702259924'}, 'MSKU6305846': {'1519702259924'}, 'MSKU6312439': {'1519702259924'}, 'MSKU6324281': {'1519702259924'}, 'MSKU6325879': {'1519702259924'}, 'MSKU6359797': {'1519702259924'}, 'MSKU6363647': {'1519702259924'}, 'MSKU6369856': {'1519702259924'}, 'MSKU6379263': {'1519702259924'}, 'MSKU6391063': {'1519702259924'}, 'MSKU6434606': {'1519702259924'}, 'MSKU6441272': {'1519702259924'}, 'MSKU6446166': {'1519702259924'}, 'MSKU6446377': {'1519702259924'}, 'MSKU6450150': {'1519702259924'}, 'MSKU6461788': {'1519702259924'}, 'MSKU6494225': {'1519702259924'}, 'MSKU6497482': {'1519702259924'}, 'MSKU6506666': {'1519702259924'}, 'MSKU6508925': {'1519702259924'}, 'MSKU6530092': {'1519702259924'}, 'MSKU6541630': {'1519702259924'}, 'MSKU6562926': {'1519702259924'}, 'MSKU6568502': {'1519702259924'}, 'MSKU6571548': {'1519702259924'}, 'MSKU6579786': {'1519702259924'}, 'MSKU6616811': {'1519702259924'}, 'MSKU6622964': {'1519702259924'}, 'MSKU6624458': {'1519702259924'}, 'MSKU6633866': {'1519702259924'}, 'MSKU6695889': {'1519702259924'}, 'MSKU6745465': {'1519702259924'}, 'MSKU6745716': {'1519702259924'}, 'MSKU6747600': {'1519702259924'}, 'MSKU6763411': {'1519702259924'}, 'MSKU6773528': {'1519702259924'}, 'MSKU6780342': {'1519702259924'}, 'MSKU6803999': {'1519702259924'}, 'MSKU6806112': {'1519702259924'}, 'MSKU6807654': {'1519702259924'}, 'MSKU6820300': {'1519702259924'}, 'MSKU6823188': {'1519702259924'}, 'MSKU6824456': {'1519702259924'}, 'MSKU6834829': {'1519702259924'}, 'APHU7275388': {'1519702276950'}, 'BEAU4848300': {'1519702276950'}, 'BMOU2762922': {'1519702244110'}, 'BMOU2883776': {'1519702244110'}, 'BMOU5876410': {'1519702244110'}, 'BSIU2346962': {'1519702244110'}, 'BSIU2542348': {'1519702244110'}, 'BSIU2543030': {'1519702244110'}, 'BSIU2581909': {'1519702244110'}, 'BSIU2741268': {'1519702244110'}, 'BSIU9283594': {'1519702244110'}, 'CAIU4124995': {'1519702244110'}, 'CAIU4143146': {'1519702252687'}, 'CAIU6164240': {'1519702244110'}, 'CAIU7662926': {'1519702244110'}, 'CMAU4531530': {'1519702276950'}, 'CPSU5120850': {'1519702247209'}, 'DFSU1139910': {'1519702244110'}, 'DFSU4229405': {'1519702244110'}, 'ECMU4627655': {'1519702276950'}, 'FCIU5164250': {'1519702244110'}, 'FCIU5560918': {'1519702244110'}, 'FCIU7266878': {'1519702276950'}, 'FCIU9390337': {'1519702244110'}, 'GAOU2137816': {'1519702244110'}, 'GAOU6164044': {'1519702244110'}, 'GCXU2134439': {'1519702244110'}, 'GCXU5017441': {'1519702244110'}, 'GESU7577679': {'1519702252687'}, 'HDMU2629355': {'1519702244110'}, 'HDMU2636035': {'1519702244110'}, 'HDMU2685132': {'1519702244110'}, 'HDMU2750454': {'1519702244110'}, 'HDMU2779329': {'1519702244110'}, 'HDMU6404676': {'1519702244110'}, 'HDMU6671271': {'1519702244110'}, 'HMMU6012061': {'1519702244110'}, 'HMMU6054616': {'1519702244110'}, 'HMMU6154169': {'1519702244110'}, 'INKU6373180': {'1519702244110'}, 'MOFU0635974': {'1519702252687'}, 'PCIU4644275': {'1519702280923'}, 'QIBU1236609': {'1519702254612'}, 'QIBU1241694': {'1519702254612'}, 'SCZU7825052': {'1519702244110'}, 'TCKU4524769': {'1519702252687'}, 'TCLU4685061': {'1519702252687'}, 'TCNU5047990': {'1519702244110'}, 'TCNU5073094': {'1519702244110'}, 'TCNU8268593': {'1519702276950'}, 'TGBU5200244': {'1519702276950'}, 'TGBU5888991': {'1519702244110'}, 'TLLU2362601': {'1519702244110'}, 'TLLU5284689': {'1519702244110'}, 'TRHU2042663': {'1519702244110'}, 'TTNU0602460': {'1519702252687'}, 'UETU4030812': {'1519702252687'}, 'APZU3088139': {'1519502163567'}, 'APZU3803427': {'1519502163567'}, 'BEAU2023574': {'1519502163567'}, 'CAIU2883288': {'1519502132637'}, 'CMAU0260070': {'1519502163567'}, 'CMAU1316873': {'1519502163567'}, 'FBIU0029759': {'1519502163567'}, 'HASU1078545': {'1519502132637'}, 'HASU1169096': {'1519502132637'}, 'HASU1184465': {'1519502132637'}, 'HASU1228413': {'1519502132637'}, 'HASU1479907': {'1519502132637'}, 'MRKU6517458': {'1519502132637'}, 'MRKU6942170': {'1519502132637'}, 'MRKU7269802': {'1519502132637'}, 'MRKU7377638': {'1519502132637'}, 'MRKU7406931': {'1519502132637'}, 'MRKU8322326': {'1519502132637'}, 'MRKU8399966': {'1519502132637'}, 'MRKU9446430': {'1519502132637'}, 'MRKU9565594': {'1519502132637'}, 'MRKU9811698': {'1519502132637'}, 'MRSU0030228': {'1519502132637'}, 'MSKU2827375': {'1519502132637'}, 'MSKU2886254': {'1519502132637'}, 'MSKU2976300': {'1519502132637'}, 'MSKU3104940': {'1519502132637'}, 'MSKU3203199': {'1519502132637'}, 'MSKU3856450': {'1519502132637'}, 'MSKU3959118': {'1519502132637'}, 'MSKU4080714': {'1519502132637'}, 'MSKU4103609': {'1519502132637'}, 'MSKU4228015': {'1519502132637'}, 'MSKU5025970': {'1519502132637'}, 'MSKU5451949': {'1519502132637'}, 'MSKU5579713': {'1519502132637'}, 'MSKU7263719': {'1519502132637'}, 'MSKU7403657': {'1519502132637'}, 'MSKU7486311': {'1519502132637'}, 'MSKU7888917': {'1519502132637'}, 'PONU0471011': {'1519502132637'}, 'PONU0951751': {'1519502132637'}, 'SUDU1831517': {'1519502132637'}, 'SUDU1923742': {'1519502132637'}, 'SUDU7525659': {'1519502132637'}, 'TCKU2250910': {'1519502163567'}, 'TCLU3540510': {'1519502163567'}, 'TCLU6125359': {'1519502132637'}, 'TCLU9919985': {'1519502132637'}, 'TEMU0985330': {'1519502163567'}, 'TEMU2189239': {'1519502132637'}, 'TEMU3552056': {'1519502132637'}, 'TGHU2870408': {'1519502132637'}, 'TGHU2938067': {'1519502132637'}, 'APHU7092216': {'1519702276950'}, 'APZU4523550': {'1519702276950'}, 'BMOU4353461': {'1519702276950'}, 'BMOU6408202': {'1519702276950'}, 'CMAU5177689': {'1519702276950'}, 'CMAU5977850': {'1519702276950'}, 'CMAU7500337': {'1519702276950'}, 'DFSU6255743': {'1519702276950'}, 'ECMU9902195': {'1519702276950'}, 'SEGU5440737': {'1519702276950'}, 'TCLU6536257': {'1519702276950'}, 'TCNU3451810': {'1519702276950'}, 'BMOU9720430': {'1519502134770'}, 'MORU5807219': {'1519502134770'}, 'NYKU7139403': {'1519502134770'}, 'NYKU7941147': {'1519502134770'}, 'SEGU9251480': {'1519502134770'}, 'SZLU9525754': {'1519502134770'}, 'SZLU9705714': {'1519502134770'}, 'TCLU1069838': {'1519502134770'}, 'TCLU1250804': {'1519502134770'}, 'TEMU9020894': {'1519502134770'}, 'TLLU1124980': {'1519502134770'}, 'TRIU8941680': {'1519502134770'}, 'TTNU8106173': {'1519502134770'}, 'TTNU8130396': {'1519502134770'}, 'TTNU8246278': {'1519502134770'}, 'BEAU4189013': {'1519502126971'}, 'BEAU5076161': {'1519502126971'}, 'BHCU4929688': {'1519502126971'}, 'CAIU5455051': {'1519502099567'}, 'CLHU8882416': {'1519502126971'}, 'FCIU8305520': {'1519502126971'}, 'FCIU8775397': {'1519502126971'}, 'FCIU9198366': {'1519502126971'}, 'FSCU8244912': {'1519502126971'}, 'GESU5583902': {'1519502126971'}, 'GESU5696600': {'1519502126971'}, 'GESU5926344': {'1519502126971'}, 'GESU6197479': {'1519502126971'}, 'HAMU1153204': {'1519502126971'}, 'HLBU1081423': {'1519502126971'}, 'HLBU1685995': {'1519502126971'}, 'HLBU2390793': {'1519502126971'}, 'HLBU2511339': {'1519502126971'}, 'HLXU6439559': {'1519502126971'}, 'HLXU6521163': {'1519502126971'}, 'HLXU6591216': {'1519502126971'}, 'HLXU8135730': {'1519502126971'}, 'HLXU8247283': {'1519502126971'}, 'HLXU8290504': {'1519502126971'}, 'HLXU8323439': {'1519502126971'}, 'JXLU5100321': {'1519502099567'}, 'JXLU5816640': {'1519502099567'}, 'TCLU5345277': {'1519502126971'}, 'TCLU5522639': {'1519502126971'}, 'TCNU7469295': {'1519502126971'}, 'TCNU7972479': {'1519502126971'}, 'TCNU8373710': {'1519502126971'}, 'TCNU9960780': {'1519502126971'}, 'TEMU7404041': {'1519502126971'}, 'TGBU6237090': {'1519502126971'}, 'TGHU6494910': {'1519502126971'}, 'TGHU8193095': {'1519502126971'}, 'TGHU8779532': {'1519502126971'}, 'TLLU5402035': {'1519502126971'}, 'TRIU8100312': {'1519502099567'}, 'UACU5472012': {'1519502126971'}, 'UACU5582909': {'1519502126971'}, 'UACU5656956': {'1519502126971'}, 'ZCSU5110309': {'1519502099567'}, 'ZCSU5128041': {'1519502099567'}, 'ZCSU5129428': {'1519502099567'}, 'ZCSU5844771': {'1519502099567'}, 'ZCSU5851240': {'1519502099567'}, 'ZCSU5853217': {'1519502099567'}, 'ZCSU5860284': {'1519502099567'}, 'ZCSU5864886': {'1519502099567'}, 'ZCSU5866786': {'1519502099567'}, 'ZCSU5866997': {'1519502099567'}, 'ZCSU5966614': {'1519502099567'}}"
   ]
  },
  {
   "cell_type": "code",
   "execution_count": 2,
   "metadata": {
    "ExecuteTime": {
     "end_time": "2019-11-19T12:06:38.726493Z",
     "start_time": "2019-11-19T12:06:38.723312Z"
    }
   },
   "outputs": [],
   "source": [
    "SQL_URI = 'mysql+pymysql://ivan@localhost:3306/mercante'"
   ]
  },
  {
   "cell_type": "code",
   "execution_count": 115,
   "metadata": {
    "ExecuteTime": {
     "end_time": "2019-11-19T23:15:45.055541Z",
     "start_time": "2019-11-19T23:15:45.002880Z"
    }
   },
   "outputs": [
    {
     "data": {
      "text/plain": [
       "<virasana.integracao.mercante.mercantealchemy.Manifesto at 0x7f65cb6c65c0>"
      ]
     },
     "execution_count": 115,
     "metadata": {},
     "output_type": "execute_result"
    }
   ],
   "source": [
    "import sqlalchemy\n",
    "from sqlalchemy.orm import sessionmaker\n",
    "from virasana.integracao.mercante.mercantealchemy import Base, Manifesto, ConteinerVazio, \\\n",
    "    Conhecimento, Item, NCMItem\n",
    "\n",
    "engine = sqlalchemy.create_engine(SQL_URI)\n",
    "Session = sessionmaker(bind=engine)\n",
    "session = Session()\n",
    "\n",
    "session.query(Manifesto).filter(Manifesto.numero == '1319501933641').one()"
   ]
  },
  {
   "cell_type": "code",
   "execution_count": 116,
   "metadata": {
    "ExecuteTime": {
     "end_time": "2019-11-19T23:15:46.331820Z",
     "start_time": "2019-11-19T23:15:46.152511Z"
    }
   },
   "outputs": [
    {
     "name": "stderr",
     "output_type": "stream",
     "text": [
      "/home/ivan/pybr/ajna/virasana/virasana-venv/lib/python3.6/site-packages/sqlalchemy/ext/declarative/clsregistry.py:129: SAWarning:\n",
      "\n",
      "This declarative base already contains a class with the same class name and module name as __main__.Enumerado, and will be replaced in the string-lookup table.\n",
      "\n"
     ]
    },
    {
     "ename": "InvalidRequestError",
     "evalue": "Table 'Enumerado' is already defined for this MetaData instance.  Specify 'extend_existing=True' to redefine options and columns on an existing Table object.",
     "output_type": "error",
     "traceback": [
      "\u001b[0;31m---------------------------------------------------------------------------\u001b[0m",
      "\u001b[0;31mInvalidRequestError\u001b[0m                       Traceback (most recent call last)",
      "\u001b[0;32m<ipython-input-116-32e2b90cf832>\u001b[0m in \u001b[0;36m<module>\u001b[0;34m\u001b[0m\n\u001b[1;32m      3\u001b[0m     \u001b[0mTable\u001b[0m\u001b[0;34m,\u001b[0m \u001b[0mText\u001b[0m\u001b[0;34m,\u001b[0m \u001b[0mVARCHAR\u001b[0m\u001b[0;34m\u001b[0m\u001b[0;34m\u001b[0m\u001b[0m\n\u001b[1;32m      4\u001b[0m \u001b[0;34m\u001b[0m\u001b[0m\n\u001b[0;32m----> 5\u001b[0;31m \u001b[0;32mclass\u001b[0m \u001b[0mEnumerado\u001b[0m\u001b[0;34m(\u001b[0m\u001b[0mBase\u001b[0m\u001b[0;34m)\u001b[0m\u001b[0;34m:\u001b[0m\u001b[0;34m\u001b[0m\u001b[0;34m\u001b[0m\u001b[0m\n\u001b[0m\u001b[1;32m      6\u001b[0m     \u001b[0m__tablename__\u001b[0m \u001b[0;34m=\u001b[0m \u001b[0;34m'Enumerado'\u001b[0m\u001b[0;34m\u001b[0m\u001b[0;34m\u001b[0m\u001b[0m\n\u001b[1;32m      7\u001b[0m     \u001b[0mid\u001b[0m \u001b[0;34m=\u001b[0m \u001b[0mColumn\u001b[0m\u001b[0;34m(\u001b[0m\u001b[0mCHAR\u001b[0m\u001b[0;34m(\u001b[0m\u001b[0;36m2\u001b[0m\u001b[0;34m)\u001b[0m\u001b[0;34m,\u001b[0m \u001b[0mprimary_key\u001b[0m\u001b[0;34m=\u001b[0m\u001b[0;32mTrue\u001b[0m\u001b[0;34m)\u001b[0m\u001b[0;34m\u001b[0m\u001b[0;34m\u001b[0m\u001b[0m\n",
      "\u001b[0;32m~/pybr/ajna/virasana/virasana-venv/lib/python3.6/site-packages/sqlalchemy/ext/declarative/api.py\u001b[0m in \u001b[0;36m__init__\u001b[0;34m(cls, classname, bases, dict_)\u001b[0m\n\u001b[1;32m     73\u001b[0m     \u001b[0;32mdef\u001b[0m \u001b[0m__init__\u001b[0m\u001b[0;34m(\u001b[0m\u001b[0mcls\u001b[0m\u001b[0;34m,\u001b[0m \u001b[0mclassname\u001b[0m\u001b[0;34m,\u001b[0m \u001b[0mbases\u001b[0m\u001b[0;34m,\u001b[0m \u001b[0mdict_\u001b[0m\u001b[0;34m)\u001b[0m\u001b[0;34m:\u001b[0m\u001b[0;34m\u001b[0m\u001b[0;34m\u001b[0m\u001b[0m\n\u001b[1;32m     74\u001b[0m         \u001b[0;32mif\u001b[0m \u001b[0;34m\"_decl_class_registry\"\u001b[0m \u001b[0;32mnot\u001b[0m \u001b[0;32min\u001b[0m \u001b[0mcls\u001b[0m\u001b[0;34m.\u001b[0m\u001b[0m__dict__\u001b[0m\u001b[0;34m:\u001b[0m\u001b[0;34m\u001b[0m\u001b[0;34m\u001b[0m\u001b[0m\n\u001b[0;32m---> 75\u001b[0;31m             \u001b[0m_as_declarative\u001b[0m\u001b[0;34m(\u001b[0m\u001b[0mcls\u001b[0m\u001b[0;34m,\u001b[0m \u001b[0mclassname\u001b[0m\u001b[0;34m,\u001b[0m \u001b[0mcls\u001b[0m\u001b[0;34m.\u001b[0m\u001b[0m__dict__\u001b[0m\u001b[0;34m)\u001b[0m\u001b[0;34m\u001b[0m\u001b[0;34m\u001b[0m\u001b[0m\n\u001b[0m\u001b[1;32m     76\u001b[0m         \u001b[0mtype\u001b[0m\u001b[0;34m.\u001b[0m\u001b[0m__init__\u001b[0m\u001b[0;34m(\u001b[0m\u001b[0mcls\u001b[0m\u001b[0;34m,\u001b[0m \u001b[0mclassname\u001b[0m\u001b[0;34m,\u001b[0m \u001b[0mbases\u001b[0m\u001b[0;34m,\u001b[0m \u001b[0mdict_\u001b[0m\u001b[0;34m)\u001b[0m\u001b[0;34m\u001b[0m\u001b[0;34m\u001b[0m\u001b[0m\n\u001b[1;32m     77\u001b[0m \u001b[0;34m\u001b[0m\u001b[0m\n",
      "\u001b[0;32m~/pybr/ajna/virasana/virasana-venv/lib/python3.6/site-packages/sqlalchemy/ext/declarative/base.py\u001b[0m in \u001b[0;36m_as_declarative\u001b[0;34m(cls, classname, dict_)\u001b[0m\n\u001b[1;32m    129\u001b[0m         \u001b[0;32mreturn\u001b[0m\u001b[0;34m\u001b[0m\u001b[0;34m\u001b[0m\u001b[0m\n\u001b[1;32m    130\u001b[0m \u001b[0;34m\u001b[0m\u001b[0m\n\u001b[0;32m--> 131\u001b[0;31m     \u001b[0m_MapperConfig\u001b[0m\u001b[0;34m.\u001b[0m\u001b[0msetup_mapping\u001b[0m\u001b[0;34m(\u001b[0m\u001b[0mcls\u001b[0m\u001b[0;34m,\u001b[0m \u001b[0mclassname\u001b[0m\u001b[0;34m,\u001b[0m \u001b[0mdict_\u001b[0m\u001b[0;34m)\u001b[0m\u001b[0;34m\u001b[0m\u001b[0;34m\u001b[0m\u001b[0m\n\u001b[0m\u001b[1;32m    132\u001b[0m \u001b[0;34m\u001b[0m\u001b[0m\n\u001b[1;32m    133\u001b[0m \u001b[0;34m\u001b[0m\u001b[0m\n",
      "\u001b[0;32m~/pybr/ajna/virasana/virasana-venv/lib/python3.6/site-packages/sqlalchemy/ext/declarative/base.py\u001b[0m in \u001b[0;36msetup_mapping\u001b[0;34m(cls, cls_, classname, dict_)\u001b[0m\n\u001b[1;32m    158\u001b[0m             \u001b[0mcfg_cls\u001b[0m \u001b[0;34m=\u001b[0m \u001b[0m_MapperConfig\u001b[0m\u001b[0;34m\u001b[0m\u001b[0;34m\u001b[0m\u001b[0m\n\u001b[1;32m    159\u001b[0m \u001b[0;34m\u001b[0m\u001b[0m\n\u001b[0;32m--> 160\u001b[0;31m         \u001b[0mcfg_cls\u001b[0m\u001b[0;34m(\u001b[0m\u001b[0mcls_\u001b[0m\u001b[0;34m,\u001b[0m \u001b[0mclassname\u001b[0m\u001b[0;34m,\u001b[0m \u001b[0mdict_\u001b[0m\u001b[0;34m)\u001b[0m\u001b[0;34m\u001b[0m\u001b[0;34m\u001b[0m\u001b[0m\n\u001b[0m\u001b[1;32m    161\u001b[0m \u001b[0;34m\u001b[0m\u001b[0m\n\u001b[1;32m    162\u001b[0m     \u001b[0;32mdef\u001b[0m \u001b[0m__init__\u001b[0m\u001b[0;34m(\u001b[0m\u001b[0mself\u001b[0m\u001b[0;34m,\u001b[0m \u001b[0mcls_\u001b[0m\u001b[0;34m,\u001b[0m \u001b[0mclassname\u001b[0m\u001b[0;34m,\u001b[0m \u001b[0mdict_\u001b[0m\u001b[0;34m)\u001b[0m\u001b[0;34m:\u001b[0m\u001b[0;34m\u001b[0m\u001b[0;34m\u001b[0m\u001b[0m\n",
      "\u001b[0;32m~/pybr/ajna/virasana/virasana-venv/lib/python3.6/site-packages/sqlalchemy/ext/declarative/base.py\u001b[0m in \u001b[0;36m__init__\u001b[0;34m(self, cls_, classname, dict_)\u001b[0m\n\u001b[1;32m    188\u001b[0m             \u001b[0mself\u001b[0m\u001b[0;34m.\u001b[0m\u001b[0m_extract_declared_columns\u001b[0m\u001b[0;34m(\u001b[0m\u001b[0;34m)\u001b[0m\u001b[0;34m\u001b[0m\u001b[0;34m\u001b[0m\u001b[0m\n\u001b[1;32m    189\u001b[0m \u001b[0;34m\u001b[0m\u001b[0m\n\u001b[0;32m--> 190\u001b[0;31m             \u001b[0mself\u001b[0m\u001b[0;34m.\u001b[0m\u001b[0m_setup_table\u001b[0m\u001b[0;34m(\u001b[0m\u001b[0;34m)\u001b[0m\u001b[0;34m\u001b[0m\u001b[0;34m\u001b[0m\u001b[0m\n\u001b[0m\u001b[1;32m    191\u001b[0m \u001b[0;34m\u001b[0m\u001b[0m\n\u001b[1;32m    192\u001b[0m             \u001b[0mself\u001b[0m\u001b[0;34m.\u001b[0m\u001b[0m_setup_inheritance\u001b[0m\u001b[0;34m(\u001b[0m\u001b[0;34m)\u001b[0m\u001b[0;34m\u001b[0m\u001b[0;34m\u001b[0m\u001b[0m\n",
      "\u001b[0;32m~/pybr/ajna/virasana/virasana-venv/lib/python3.6/site-packages/sqlalchemy/ext/declarative/base.py\u001b[0m in \u001b[0;36m_setup_table\u001b[0;34m(self)\u001b[0m\n\u001b[1;32m    536\u001b[0m                     \u001b[0mcls\u001b[0m\u001b[0;34m.\u001b[0m\u001b[0mmetadata\u001b[0m\u001b[0;34m,\u001b[0m\u001b[0;34m\u001b[0m\u001b[0;34m\u001b[0m\u001b[0m\n\u001b[1;32m    537\u001b[0m                     \u001b[0;34m*\u001b[0m\u001b[0;34m(\u001b[0m\u001b[0mtuple\u001b[0m\u001b[0;34m(\u001b[0m\u001b[0mdeclared_columns\u001b[0m\u001b[0;34m)\u001b[0m \u001b[0;34m+\u001b[0m \u001b[0mtuple\u001b[0m\u001b[0;34m(\u001b[0m\u001b[0margs\u001b[0m\u001b[0;34m)\u001b[0m\u001b[0;34m)\u001b[0m\u001b[0;34m,\u001b[0m\u001b[0;34m\u001b[0m\u001b[0;34m\u001b[0m\u001b[0m\n\u001b[0;32m--> 538\u001b[0;31m                     \u001b[0;34m**\u001b[0m\u001b[0mtable_kw\u001b[0m\u001b[0;34m\u001b[0m\u001b[0;34m\u001b[0m\u001b[0m\n\u001b[0m\u001b[1;32m    539\u001b[0m                 )\n\u001b[1;32m    540\u001b[0m         \u001b[0;32melse\u001b[0m\u001b[0;34m:\u001b[0m\u001b[0;34m\u001b[0m\u001b[0;34m\u001b[0m\u001b[0m\n",
      "\u001b[0;32m<string>\u001b[0m in \u001b[0;36m__new__\u001b[0;34m(cls, *args, **kw)\u001b[0m\n",
      "\u001b[0;32m~/pybr/ajna/virasana/virasana-venv/lib/python3.6/site-packages/sqlalchemy/util/deprecations.py\u001b[0m in \u001b[0;36mwarned\u001b[0;34m(fn, *args, **kwargs)\u001b[0m\n\u001b[1;32m    126\u001b[0m                     )\n\u001b[1;32m    127\u001b[0m \u001b[0;34m\u001b[0m\u001b[0m\n\u001b[0;32m--> 128\u001b[0;31m             \u001b[0;32mreturn\u001b[0m \u001b[0mfn\u001b[0m\u001b[0;34m(\u001b[0m\u001b[0;34m*\u001b[0m\u001b[0margs\u001b[0m\u001b[0;34m,\u001b[0m \u001b[0;34m**\u001b[0m\u001b[0mkwargs\u001b[0m\u001b[0;34m)\u001b[0m\u001b[0;34m\u001b[0m\u001b[0;34m\u001b[0m\u001b[0m\n\u001b[0m\u001b[1;32m    129\u001b[0m \u001b[0;34m\u001b[0m\u001b[0m\n\u001b[1;32m    130\u001b[0m         \u001b[0mdoc\u001b[0m \u001b[0;34m=\u001b[0m \u001b[0mfn\u001b[0m\u001b[0;34m.\u001b[0m\u001b[0m__doc__\u001b[0m \u001b[0;32mis\u001b[0m \u001b[0;32mnot\u001b[0m \u001b[0;32mNone\u001b[0m \u001b[0;32mand\u001b[0m \u001b[0mfn\u001b[0m\u001b[0;34m.\u001b[0m\u001b[0m__doc__\u001b[0m \u001b[0;32mor\u001b[0m \u001b[0;34m\"\"\u001b[0m\u001b[0;34m\u001b[0m\u001b[0;34m\u001b[0m\u001b[0m\n",
      "\u001b[0;32m~/pybr/ajna/virasana/virasana-venv/lib/python3.6/site-packages/sqlalchemy/sql/schema.py\u001b[0m in \u001b[0;36m__new__\u001b[0;34m(cls, *args, **kw)\u001b[0m\n\u001b[1;32m    486\u001b[0m                     \u001b[0;34m\"to redefine \"\u001b[0m\u001b[0;34m\u001b[0m\u001b[0;34m\u001b[0m\u001b[0m\n\u001b[1;32m    487\u001b[0m                     \u001b[0;34m\"options and columns on an \"\u001b[0m\u001b[0;34m\u001b[0m\u001b[0;34m\u001b[0m\u001b[0m\n\u001b[0;32m--> 488\u001b[0;31m                     \u001b[0;34m\"existing Table object.\"\u001b[0m \u001b[0;34m%\u001b[0m \u001b[0mkey\u001b[0m\u001b[0;34m\u001b[0m\u001b[0;34m\u001b[0m\u001b[0m\n\u001b[0m\u001b[1;32m    489\u001b[0m                 )\n\u001b[1;32m    490\u001b[0m             \u001b[0mtable\u001b[0m \u001b[0;34m=\u001b[0m \u001b[0mmetadata\u001b[0m\u001b[0;34m.\u001b[0m\u001b[0mtables\u001b[0m\u001b[0;34m[\u001b[0m\u001b[0mkey\u001b[0m\u001b[0;34m]\u001b[0m\u001b[0;34m\u001b[0m\u001b[0;34m\u001b[0m\u001b[0m\n",
      "\u001b[0;31mInvalidRequestError\u001b[0m: Table 'Enumerado' is already defined for this MetaData instance.  Specify 'extend_existing=True' to redefine options and columns on an existing Table object."
     ]
    }
   ],
   "source": [
    "from sqlalchemy import BigInteger, Column, CHAR, \\\n",
    "    DateTime, func, Integer, Index, MetaData, select, \\\n",
    "    Table, Text, VARCHAR\n",
    "\n",
    "class Enumerado(Base):\n",
    "    __tablename__ = 'Enumerado'\n",
    "    id = Column(CHAR(2), primary_key=True)\n",
    "    TipoManifesto = Column(VARCHAR(40))\n",
    "    \n",
    "    @classmethod\n",
    "    def getTipoManifesto(cls, session, id:int):\n",
    "        enumerado = session.query(Enumerado).filter(Enumerado.id==id).one_or_none()\n",
    "        if enumerado:\n",
    "            return enumerado.TipoManifesto\n",
    "        return None"
   ]
  },
  {
   "cell_type": "code",
   "execution_count": 117,
   "metadata": {
    "ExecuteTime": {
     "end_time": "2019-11-19T23:15:46.999666Z",
     "start_time": "2019-11-19T23:15:46.986001Z"
    }
   },
   "outputs": [
    {
     "data": {
      "text/plain": [
       "'lci'"
      ]
     },
     "execution_count": 117,
     "metadata": {},
     "output_type": "execute_result"
    }
   ],
   "source": [
    "Enumerado.getTipoManifesto(session, 3)"
   ]
  },
  {
   "cell_type": "code",
   "execution_count": 118,
   "metadata": {
    "ExecuteTime": {
     "end_time": "2019-11-19T23:15:47.865269Z",
     "start_time": "2019-11-19T23:15:47.852026Z"
    }
   },
   "outputs": [
    {
     "data": {
      "text/plain": [
       "'lce'"
      ]
     },
     "execution_count": 118,
     "metadata": {},
     "output_type": "execute_result"
    }
   ],
   "source": [
    "Enumerado.getTipoManifesto(session, 5)"
   ]
  },
  {
   "cell_type": "code",
   "execution_count": 119,
   "metadata": {
    "ExecuteTime": {
     "end_time": "2019-11-19T23:15:48.437981Z",
     "start_time": "2019-11-19T23:15:48.425443Z"
    }
   },
   "outputs": [],
   "source": [
    "def manifesto_carga(session, numero):\n",
    "    dict_carga = {'vazio': True}\n",
    "    manifesto = session.query(Manifesto).filter(Manifesto.numero == numero).one()\n",
    "    manifesto_dict = manifesto.__dict__.copy()\n",
    "    manifesto_dict.pop('_sa_instance_state')\n",
    "    dict_carga['manifesto'] = manifesto_dict\n",
    "    conteineres = session.query(ConteinerVazio).filter(ConteinerVazio.manifesto == numero).all()\n",
    "    dict_carga['conteineres'] = [conteiner.__dict__.copy() for conteiner in conteineres]\n",
    "    return dict_carga"
   ]
  },
  {
   "cell_type": "code",
   "execution_count": 120,
   "metadata": {
    "ExecuteTime": {
     "end_time": "2019-11-19T23:15:49.519647Z",
     "start_time": "2019-11-19T23:15:49.503461Z"
    }
   },
   "outputs": [
    {
     "name": "stdout",
     "output_type": "stream",
     "text": [
      "{'vazio': True, 'manifesto': {'codigoTerminalCarregamento': '', 'codAgenciaInformante': '43145945003715', 'ID': 1, 'quantidadeConhecimento': '', 'portoCarregamento': 'USORF', 'create_date': datetime.datetime(2019, 11, 6, 11, 4, 55), 'dataInicioOperacaoDate': None, 'numeroViagem': '937SY', 'horaAtualizacao': '05:41:54', 'dataEncerramento': '2019-09-27', 'codigoTerminalDescarregamento': 'BRRIG005', 'codigoEmpresaNavegacao': 'DK001046', 'numero': '2119501933520', 'tipoTrafego': '5', 'portoDescarregamento': 'BRRIG', 'last_modified': datetime.datetime(2019, 11, 15, 12, 21, 23), 'numeroImoDPC': '9629457', 'dataInicioOperacao': '2019-10-08', 'dataAtualizacao': '2019-09-27'}, 'conteineres': [{'_sa_instance_state': <sqlalchemy.orm.state.InstanceState object at 0x7f65dd9304a8>, 'create_date': datetime.datetime(2019, 11, 6, 11, 5, 29), 'isoConteinerVazio': '45R0', 'idConteinerVazio': 'MCAU8570508', 'ID': 64, 'last_modified': datetime.datetime(2019, 11, 15, 12, 23, 57), 'taraConteinerVazio': '004680.000', 'manifesto': '2119501933520'}, {'_sa_instance_state': <sqlalchemy.orm.state.InstanceState object at 0x7f65dd930cc0>, 'create_date': datetime.datetime(2019, 11, 6, 11, 5, 29), 'isoConteinerVazio': '45R0', 'idConteinerVazio': 'MNBU0018317', 'ID': 63, 'last_modified': datetime.datetime(2019, 11, 15, 12, 23, 57), 'taraConteinerVazio': '004640.000', 'manifesto': '2119501933520'}, {'_sa_instance_state': <sqlalchemy.orm.state.InstanceState object at 0x7f65dd930ef0>, 'create_date': datetime.datetime(2019, 11, 6, 11, 5, 29), 'isoConteinerVazio': '45R0', 'idConteinerVazio': 'MNBU0095720', 'ID': 62, 'last_modified': datetime.datetime(2019, 11, 15, 12, 23, 57), 'taraConteinerVazio': '004600.000', 'manifesto': '2119501933520'}, {'_sa_instance_state': <sqlalchemy.orm.state.InstanceState object at 0x7f65e0ea48d0>, 'create_date': datetime.datetime(2019, 11, 6, 11, 5, 29), 'isoConteinerVazio': '45R0', 'idConteinerVazio': 'MNBU0124941', 'ID': 61, 'last_modified': datetime.datetime(2019, 11, 15, 12, 23, 57), 'taraConteinerVazio': '004490.000', 'manifesto': '2119501933520'}, {'_sa_instance_state': <sqlalchemy.orm.state.InstanceState object at 0x7f6600262f28>, 'create_date': datetime.datetime(2019, 11, 6, 11, 5, 29), 'isoConteinerVazio': '45R0', 'idConteinerVazio': 'MNBU0148500', 'ID': 60, 'last_modified': datetime.datetime(2019, 11, 15, 12, 23, 57), 'taraConteinerVazio': '004490.000', 'manifesto': '2119501933520'}, {'_sa_instance_state': <sqlalchemy.orm.state.InstanceState object at 0x7f65cf770e80>, 'create_date': datetime.datetime(2019, 11, 6, 11, 5, 29), 'isoConteinerVazio': '45R0', 'idConteinerVazio': 'MNBU0203280', 'ID': 59, 'last_modified': datetime.datetime(2019, 11, 15, 12, 23, 57), 'taraConteinerVazio': '004570.000', 'manifesto': '2119501933520'}, {'_sa_instance_state': <sqlalchemy.orm.state.InstanceState object at 0x7f65ddf210b8>, 'create_date': datetime.datetime(2019, 11, 6, 11, 5, 29), 'isoConteinerVazio': '45R0', 'idConteinerVazio': 'MNBU0238116', 'ID': 58, 'last_modified': datetime.datetime(2019, 11, 15, 12, 23, 57), 'taraConteinerVazio': '004570.000', 'manifesto': '2119501933520'}, {'_sa_instance_state': <sqlalchemy.orm.state.InstanceState object at 0x7f65cb3a6518>, 'create_date': datetime.datetime(2019, 11, 6, 11, 5, 29), 'isoConteinerVazio': '45R0', 'idConteinerVazio': 'MNBU0238800', 'ID': 57, 'last_modified': datetime.datetime(2019, 11, 15, 12, 23, 57), 'taraConteinerVazio': '004570.000', 'manifesto': '2119501933520'}, {'_sa_instance_state': <sqlalchemy.orm.state.InstanceState object at 0x7f65cbdcac88>, 'create_date': datetime.datetime(2019, 11, 6, 11, 5, 29), 'isoConteinerVazio': '45R0', 'idConteinerVazio': 'MNBU0239956', 'ID': 56, 'last_modified': datetime.datetime(2019, 11, 15, 12, 23, 57), 'taraConteinerVazio': '004570.000', 'manifesto': '2119501933520'}, {'_sa_instance_state': <sqlalchemy.orm.state.InstanceState object at 0x7f65cb412898>, 'create_date': datetime.datetime(2019, 11, 6, 11, 5, 29), 'isoConteinerVazio': '45R0', 'idConteinerVazio': 'MNBU0310210', 'ID': 55, 'last_modified': datetime.datetime(2019, 11, 15, 12, 23, 57), 'taraConteinerVazio': '004380.000', 'manifesto': '2119501933520'}, {'_sa_instance_state': <sqlalchemy.orm.state.InstanceState object at 0x7f65ddad4ba8>, 'create_date': datetime.datetime(2019, 11, 6, 11, 5, 29), 'isoConteinerVazio': '45R0', 'idConteinerVazio': 'MNBU0367330', 'ID': 65, 'last_modified': datetime.datetime(2019, 11, 15, 12, 23, 57), 'taraConteinerVazio': '004380.000', 'manifesto': '2119501933520'}, {'_sa_instance_state': <sqlalchemy.orm.state.InstanceState object at 0x7f65cb66fb38>, 'create_date': datetime.datetime(2019, 11, 6, 11, 5, 29), 'isoConteinerVazio': '45R0', 'idConteinerVazio': 'MNBU0465038', 'ID': 54, 'last_modified': datetime.datetime(2019, 11, 15, 12, 23, 57), 'taraConteinerVazio': '004380.000', 'manifesto': '2119501933520'}, {'_sa_instance_state': <sqlalchemy.orm.state.InstanceState object at 0x7f65cb66fa20>, 'create_date': datetime.datetime(2019, 11, 6, 11, 5, 29), 'isoConteinerVazio': '45R0', 'idConteinerVazio': 'MNBU0488603', 'ID': 53, 'last_modified': datetime.datetime(2019, 11, 15, 12, 23, 57), 'taraConteinerVazio': '004380.000', 'manifesto': '2119501933520'}, {'_sa_instance_state': <sqlalchemy.orm.state.InstanceState object at 0x7f65cb66fd68>, 'create_date': datetime.datetime(2019, 11, 6, 11, 5, 29), 'isoConteinerVazio': '45R0', 'idConteinerVazio': 'MNBU0492753', 'ID': 52, 'last_modified': datetime.datetime(2019, 11, 15, 12, 23, 57), 'taraConteinerVazio': '004330.000', 'manifesto': '2119501933520'}, {'_sa_instance_state': <sqlalchemy.orm.state.InstanceState object at 0x7f65cb66ffd0>, 'create_date': datetime.datetime(2019, 11, 6, 11, 5, 29), 'isoConteinerVazio': '45R0', 'idConteinerVazio': 'MNBU0515798', 'ID': 51, 'last_modified': datetime.datetime(2019, 11, 15, 12, 23, 57), 'taraConteinerVazio': '004500.000', 'manifesto': '2119501933520'}, {'_sa_instance_state': <sqlalchemy.orm.state.InstanceState object at 0x7f65cb66fac8>, 'create_date': datetime.datetime(2019, 11, 6, 11, 5, 29), 'isoConteinerVazio': '45R0', 'idConteinerVazio': 'MNBU0516156', 'ID': 50, 'last_modified': datetime.datetime(2019, 11, 15, 12, 23, 57), 'taraConteinerVazio': '004500.000', 'manifesto': '2119501933520'}, {'_sa_instance_state': <sqlalchemy.orm.state.InstanceState object at 0x7f65cb66fbe0>, 'create_date': datetime.datetime(2019, 11, 6, 11, 5, 29), 'isoConteinerVazio': '45R0', 'idConteinerVazio': 'MNBU0519833', 'ID': 49, 'last_modified': datetime.datetime(2019, 11, 15, 12, 23, 57), 'taraConteinerVazio': '004500.000', 'manifesto': '2119501933520'}, {'_sa_instance_state': <sqlalchemy.orm.state.InstanceState object at 0x7f65cb66fcf8>, 'create_date': datetime.datetime(2019, 11, 6, 11, 5, 29), 'isoConteinerVazio': '45R0', 'idConteinerVazio': 'MNBU3075075', 'ID': 48, 'last_modified': datetime.datetime(2019, 11, 15, 12, 23, 57), 'taraConteinerVazio': '004420.000', 'manifesto': '2119501933520'}, {'_sa_instance_state': <sqlalchemy.orm.state.InstanceState object at 0x7f65cb66fa90>, 'create_date': datetime.datetime(2019, 11, 6, 11, 5, 29), 'isoConteinerVazio': '45R0', 'idConteinerVazio': 'MNBU3081421', 'ID': 47, 'last_modified': datetime.datetime(2019, 11, 15, 12, 23, 57), 'taraConteinerVazio': '004420.000', 'manifesto': '2119501933520'}, {'_sa_instance_state': <sqlalchemy.orm.state.InstanceState object at 0x7f65cb66f550>, 'create_date': datetime.datetime(2019, 11, 6, 11, 5, 29), 'isoConteinerVazio': '45R0', 'idConteinerVazio': 'MNBU3284500', 'ID': 46, 'last_modified': datetime.datetime(2019, 11, 15, 12, 23, 57), 'taraConteinerVazio': '004420.000', 'manifesto': '2119501933520'}, {'_sa_instance_state': <sqlalchemy.orm.state.InstanceState object at 0x7f65cb66f668>, 'create_date': datetime.datetime(2019, 11, 6, 11, 5, 29), 'isoConteinerVazio': '45R0', 'idConteinerVazio': 'MNBU3290822', 'ID': 45, 'last_modified': datetime.datetime(2019, 11, 15, 12, 23, 57), 'taraConteinerVazio': '004420.000', 'manifesto': '2119501933520'}, {'_sa_instance_state': <sqlalchemy.orm.state.InstanceState object at 0x7f65cb66f780>, 'create_date': datetime.datetime(2019, 11, 6, 11, 5, 29), 'isoConteinerVazio': '45R0', 'idConteinerVazio': 'MNBU3314056', 'ID': 44, 'last_modified': datetime.datetime(2019, 11, 15, 12, 23, 57), 'taraConteinerVazio': '004300.000', 'manifesto': '2119501933520'}, {'_sa_instance_state': <sqlalchemy.orm.state.InstanceState object at 0x7f65cb66f048>, 'create_date': datetime.datetime(2019, 11, 6, 11, 5, 29), 'isoConteinerVazio': '45R0', 'idConteinerVazio': 'MNBU3317116', 'ID': 43, 'last_modified': datetime.datetime(2019, 11, 15, 12, 23, 57), 'taraConteinerVazio': '004300.000', 'manifesto': '2119501933520'}, {'_sa_instance_state': <sqlalchemy.orm.state.InstanceState object at 0x7f65cb66f198>, 'create_date': datetime.datetime(2019, 11, 6, 11, 5, 29), 'isoConteinerVazio': '45R0', 'idConteinerVazio': 'MNBU3363976', 'ID': 42, 'last_modified': datetime.datetime(2019, 11, 15, 12, 23, 57), 'taraConteinerVazio': '004300.000', 'manifesto': '2119501933520'}, {'_sa_instance_state': <sqlalchemy.orm.state.InstanceState object at 0x7f65cb66f0f0>, 'create_date': datetime.datetime(2019, 11, 6, 11, 5, 29), 'isoConteinerVazio': '45R0', 'idConteinerVazio': 'MNBU3371781', 'ID': 41, 'last_modified': datetime.datetime(2019, 11, 15, 12, 23, 57), 'taraConteinerVazio': '004300.000', 'manifesto': '2119501933520'}, {'_sa_instance_state': <sqlalchemy.orm.state.InstanceState object at 0x7f65cb6c64e0>, 'create_date': datetime.datetime(2019, 11, 6, 11, 5, 29), 'isoConteinerVazio': '45R0', 'idConteinerVazio': 'MNBU3519502', 'ID': 40, 'last_modified': datetime.datetime(2019, 11, 15, 12, 23, 57), 'taraConteinerVazio': '004420.000', 'manifesto': '2119501933520'}, {'_sa_instance_state': <sqlalchemy.orm.state.InstanceState object at 0x7f65e00a86a0>, 'create_date': datetime.datetime(2019, 11, 6, 11, 5, 29), 'isoConteinerVazio': '45R0', 'idConteinerVazio': 'MNBU3552096', 'ID': 39, 'last_modified': datetime.datetime(2019, 11, 15, 12, 23, 57), 'taraConteinerVazio': '004330.000', 'manifesto': '2119501933520'}, {'_sa_instance_state': <sqlalchemy.orm.state.InstanceState object at 0x7f65e00a8630>, 'create_date': datetime.datetime(2019, 11, 6, 11, 5, 29), 'isoConteinerVazio': '45R0', 'idConteinerVazio': 'MNBU3559001', 'ID': 38, 'last_modified': datetime.datetime(2019, 11, 15, 12, 23, 57), 'taraConteinerVazio': '004330.000', 'manifesto': '2119501933520'}, {'_sa_instance_state': <sqlalchemy.orm.state.InstanceState object at 0x7f65e00a89b0>, 'create_date': datetime.datetime(2019, 11, 6, 11, 5, 29), 'isoConteinerVazio': '45R0', 'idConteinerVazio': 'MNBU3591662', 'ID': 37, 'last_modified': datetime.datetime(2019, 11, 15, 12, 23, 57), 'taraConteinerVazio': '004330.000', 'manifesto': '2119501933520'}, {'_sa_instance_state': <sqlalchemy.orm.state.InstanceState object at 0x7f65e00a8ba8>, 'create_date': datetime.datetime(2019, 11, 6, 11, 5, 29), 'isoConteinerVazio': '45R0', 'idConteinerVazio': 'MNBU3703382', 'ID': 36, 'last_modified': datetime.datetime(2019, 11, 15, 12, 23, 57), 'taraConteinerVazio': '004330.000', 'manifesto': '2119501933520'}, {'_sa_instance_state': <sqlalchemy.orm.state.InstanceState object at 0x7f65cb669fd0>, 'create_date': datetime.datetime(2019, 11, 6, 11, 5, 29), 'isoConteinerVazio': '45R0', 'idConteinerVazio': 'MNBU3894967', 'ID': 35, 'last_modified': datetime.datetime(2019, 11, 15, 12, 23, 57), 'taraConteinerVazio': '004330.000', 'manifesto': '2119501933520'}, {'_sa_instance_state': <sqlalchemy.orm.state.InstanceState object at 0x7f65cb669da0>, 'create_date': datetime.datetime(2019, 11, 6, 11, 5, 29), 'isoConteinerVazio': '45R0', 'idConteinerVazio': 'MNBU3901602', 'ID': 34, 'last_modified': datetime.datetime(2019, 11, 15, 12, 23, 57), 'taraConteinerVazio': '004330.000', 'manifesto': '2119501933520'}, {'_sa_instance_state': <sqlalchemy.orm.state.InstanceState object at 0x7f65cb669f28>, 'create_date': datetime.datetime(2019, 11, 6, 11, 5, 29), 'isoConteinerVazio': '45R0', 'idConteinerVazio': 'MNBU3921276', 'ID': 33, 'last_modified': datetime.datetime(2019, 11, 15, 12, 23, 57), 'taraConteinerVazio': '004210.000', 'manifesto': '2119501933520'}, {'_sa_instance_state': <sqlalchemy.orm.state.InstanceState object at 0x7f65cb6699b0>, 'create_date': datetime.datetime(2019, 11, 6, 11, 5, 29), 'isoConteinerVazio': '45R0', 'idConteinerVazio': 'MNBU3944271', 'ID': 32, 'last_modified': datetime.datetime(2019, 11, 15, 12, 23, 57), 'taraConteinerVazio': '004210.000', 'manifesto': '2119501933520'}, {'_sa_instance_state': <sqlalchemy.orm.state.InstanceState object at 0x7f65cb669a90>, 'create_date': datetime.datetime(2019, 11, 6, 11, 5, 29), 'isoConteinerVazio': '45R0', 'idConteinerVazio': 'MNBU4011537', 'ID': 31, 'last_modified': datetime.datetime(2019, 11, 15, 12, 23, 57), 'taraConteinerVazio': '004280.000', 'manifesto': '2119501933520'}, {'_sa_instance_state': <sqlalchemy.orm.state.InstanceState object at 0x7f65cb669b38>, 'create_date': datetime.datetime(2019, 11, 6, 11, 5, 29), 'isoConteinerVazio': '45R0', 'idConteinerVazio': 'MNBU9083993', 'ID': 30, 'last_modified': datetime.datetime(2019, 11, 15, 12, 23, 57), 'taraConteinerVazio': '004520.000', 'manifesto': '2119501933520'}, {'_sa_instance_state': <sqlalchemy.orm.state.InstanceState object at 0x7f65cb6694e0>, 'create_date': datetime.datetime(2019, 11, 6, 11, 5, 29), 'isoConteinerVazio': '45R0', 'idConteinerVazio': 'MNBU9100895', 'ID': 29, 'last_modified': datetime.datetime(2019, 11, 15, 12, 23, 57), 'taraConteinerVazio': '004520.000', 'manifesto': '2119501933520'}, {'_sa_instance_state': <sqlalchemy.orm.state.InstanceState object at 0x7f65cb669668>, 'create_date': datetime.datetime(2019, 11, 6, 11, 5, 29), 'isoConteinerVazio': '22G1', 'idConteinerVazio': 'MRKU7021375', 'ID': 28, 'last_modified': datetime.datetime(2019, 11, 15, 12, 23, 57), 'taraConteinerVazio': '002170.000', 'manifesto': '2119501933520'}, {'_sa_instance_state': <sqlalchemy.orm.state.InstanceState object at 0x7f65cb6694a8>, 'create_date': datetime.datetime(2019, 11, 6, 11, 5, 29), 'isoConteinerVazio': '22G1', 'idConteinerVazio': 'MRKU9227724', 'ID': 8, 'last_modified': datetime.datetime(2019, 11, 15, 12, 23, 57), 'taraConteinerVazio': '002170.000', 'manifesto': '2119501933520'}, {'_sa_instance_state': <sqlalchemy.orm.state.InstanceState object at 0x7f65cb6691d0>, 'create_date': datetime.datetime(2019, 11, 6, 11, 5, 29), 'isoConteinerVazio': '45G1', 'idConteinerVazio': 'MRSU3773464', 'ID': 7, 'last_modified': datetime.datetime(2019, 11, 15, 12, 23, 57), 'taraConteinerVazio': '003720.000', 'manifesto': '2119501933520'}, {'_sa_instance_state': <sqlalchemy.orm.state.InstanceState object at 0x7f65cb669358>, 'create_date': datetime.datetime(2019, 11, 6, 11, 5, 29), 'isoConteinerVazio': '22G1', 'idConteinerVazio': 'MSKU3256877', 'ID': 26, 'last_modified': datetime.datetime(2019, 11, 15, 12, 23, 57), 'taraConteinerVazio': '002280.000', 'manifesto': '2119501933520'}, {'_sa_instance_state': <sqlalchemy.orm.state.InstanceState object at 0x7f65cb669080>, 'create_date': datetime.datetime(2019, 11, 6, 11, 5, 29), 'isoConteinerVazio': '22G1', 'idConteinerVazio': 'MSKU3640666', 'ID': 25, 'last_modified': datetime.datetime(2019, 11, 15, 12, 23, 57), 'taraConteinerVazio': '002300.000', 'manifesto': '2119501933520'}, {'_sa_instance_state': <sqlalchemy.orm.state.InstanceState object at 0x7f65dda68f28>, 'create_date': datetime.datetime(2019, 11, 6, 11, 5, 29), 'isoConteinerVazio': '42G1', 'idConteinerVazio': 'MSKU6563898', 'ID': 27, 'last_modified': datetime.datetime(2019, 11, 15, 12, 23, 57), 'taraConteinerVazio': '003700.000', 'manifesto': '2119501933520'}, {'_sa_instance_state': <sqlalchemy.orm.state.InstanceState object at 0x7f65dda68fd0>, 'create_date': datetime.datetime(2019, 11, 6, 11, 5, 29), 'isoConteinerVazio': '45R0', 'idConteinerVazio': 'MSWU0109940', 'ID': 24, 'last_modified': datetime.datetime(2019, 11, 15, 12, 23, 57), 'taraConteinerVazio': '004520.000', 'manifesto': '2119501933520'}, {'_sa_instance_state': <sqlalchemy.orm.state.InstanceState object at 0x7f65dda68cf8>, 'create_date': datetime.datetime(2019, 11, 6, 11, 5, 29), 'isoConteinerVazio': '45R0', 'idConteinerVazio': 'MSWU9075218', 'ID': 23, 'last_modified': datetime.datetime(2019, 11, 15, 12, 23, 57), 'taraConteinerVazio': '004520.000', 'manifesto': '2119501933520'}, {'_sa_instance_state': <sqlalchemy.orm.state.InstanceState object at 0x7f65dda68e48>, 'create_date': datetime.datetime(2019, 11, 6, 11, 5, 29), 'isoConteinerVazio': '45R0', 'idConteinerVazio': 'MWCU5307654', 'ID': 22, 'last_modified': datetime.datetime(2019, 11, 15, 12, 23, 57), 'taraConteinerVazio': '004640.000', 'manifesto': '2119501933520'}, {'_sa_instance_state': <sqlalchemy.orm.state.InstanceState object at 0x7f65dda68be0>, 'create_date': datetime.datetime(2019, 11, 6, 11, 5, 29), 'isoConteinerVazio': '45R0', 'idConteinerVazio': 'MWCU6709811', 'ID': 21, 'last_modified': datetime.datetime(2019, 11, 15, 12, 23, 57), 'taraConteinerVazio': '004670.000', 'manifesto': '2119501933520'}, {'_sa_instance_state': <sqlalchemy.orm.state.InstanceState object at 0x7f65dda68b38>, 'create_date': datetime.datetime(2019, 11, 6, 11, 5, 29), 'isoConteinerVazio': '45R0', 'idConteinerVazio': 'MWCU6778788', 'ID': 20, 'last_modified': datetime.datetime(2019, 11, 15, 12, 23, 57), 'taraConteinerVazio': '004670.000', 'manifesto': '2119501933520'}, {'_sa_instance_state': <sqlalchemy.orm.state.InstanceState object at 0x7f65dda68cc0>, 'create_date': datetime.datetime(2019, 11, 6, 11, 5, 29), 'isoConteinerVazio': '45R0', 'idConteinerVazio': 'MWCU6793360', 'ID': 19, 'last_modified': datetime.datetime(2019, 11, 15, 12, 23, 57), 'taraConteinerVazio': '004670.000', 'manifesto': '2119501933520'}, {'_sa_instance_state': <sqlalchemy.orm.state.InstanceState object at 0x7f65dda68780>, 'create_date': datetime.datetime(2019, 11, 6, 11, 5, 29), 'isoConteinerVazio': '45R0', 'idConteinerVazio': 'MWCU6865183', 'ID': 18, 'last_modified': datetime.datetime(2019, 11, 15, 12, 23, 57), 'taraConteinerVazio': '004400.000', 'manifesto': '2119501933520'}, {'_sa_instance_state': <sqlalchemy.orm.state.InstanceState object at 0x7f65dda688d0>, 'create_date': datetime.datetime(2019, 11, 6, 11, 5, 29), 'isoConteinerVazio': '45R0', 'idConteinerVazio': 'MWMU6347672', 'ID': 17, 'last_modified': datetime.datetime(2019, 11, 15, 12, 23, 57), 'taraConteinerVazio': '004620.000', 'manifesto': '2119501933520'}, {'_sa_instance_state': <sqlalchemy.orm.state.InstanceState object at 0x7f65dda68978>, 'create_date': datetime.datetime(2019, 11, 6, 11, 5, 29), 'isoConteinerVazio': '45R0', 'idConteinerVazio': 'SUDU5124148', 'ID': 16, 'last_modified': datetime.datetime(2019, 11, 15, 12, 23, 57), 'taraConteinerVazio': '004580.000', 'manifesto': '2119501933520'}, {'_sa_instance_state': <sqlalchemy.orm.state.InstanceState object at 0x7f65dda684e0>, 'create_date': datetime.datetime(2019, 11, 6, 11, 5, 29), 'isoConteinerVazio': '45R0', 'idConteinerVazio': 'SUDU5137567', 'ID': 15, 'last_modified': datetime.datetime(2019, 11, 15, 12, 23, 57), 'taraConteinerVazio': '004580.000', 'manifesto': '2119501933520'}, {'_sa_instance_state': <sqlalchemy.orm.state.InstanceState object at 0x7f65dda68710>, 'create_date': datetime.datetime(2019, 11, 6, 11, 5, 29), 'isoConteinerVazio': '45R0', 'idConteinerVazio': 'SUDU5162507', 'ID': 14, 'last_modified': datetime.datetime(2019, 11, 15, 12, 23, 57), 'taraConteinerVazio': '004660.000', 'manifesto': '2119501933520'}, {'_sa_instance_state': <sqlalchemy.orm.state.InstanceState object at 0x7f65dda68358>, 'create_date': datetime.datetime(2019, 11, 6, 11, 5, 29), 'isoConteinerVazio': '45R0', 'idConteinerVazio': 'SUDU6030399', 'ID': 13, 'last_modified': datetime.datetime(2019, 11, 15, 12, 23, 57), 'taraConteinerVazio': '004600.000', 'manifesto': '2119501933520'}, {'_sa_instance_state': <sqlalchemy.orm.state.InstanceState object at 0x7f65dda68470>, 'create_date': datetime.datetime(2019, 11, 6, 11, 5, 29), 'isoConteinerVazio': '45R0', 'idConteinerVazio': 'SUDU6049748', 'ID': 12, 'last_modified': datetime.datetime(2019, 11, 15, 12, 23, 57), 'taraConteinerVazio': '004580.000', 'manifesto': '2119501933520'}, {'_sa_instance_state': <sqlalchemy.orm.state.InstanceState object at 0x7f65dda685c0>, 'create_date': datetime.datetime(2019, 11, 6, 11, 5, 29), 'isoConteinerVazio': '45R0', 'idConteinerVazio': 'SUDU6051534', 'ID': 11, 'last_modified': datetime.datetime(2019, 11, 15, 12, 23, 57), 'taraConteinerVazio': '004650.000', 'manifesto': '2119501933520'}, {'_sa_instance_state': <sqlalchemy.orm.state.InstanceState object at 0x7f65dda681d0>, 'create_date': datetime.datetime(2019, 11, 6, 11, 5, 29), 'isoConteinerVazio': '45R0', 'idConteinerVazio': 'SUDU6079737', 'ID': 10, 'last_modified': datetime.datetime(2019, 11, 15, 12, 23, 57), 'taraConteinerVazio': '004600.000', 'manifesto': '2119501933520'}, {'_sa_instance_state': <sqlalchemy.orm.state.InstanceState object at 0x7f65dda68320>, 'create_date': datetime.datetime(2019, 11, 6, 11, 5, 29), 'isoConteinerVazio': '45R0', 'idConteinerVazio': 'SUDU6263810', 'ID': 9, 'last_modified': datetime.datetime(2019, 11, 15, 12, 23, 57), 'taraConteinerVazio': '004620.000', 'manifesto': '2119501933520'}, {'_sa_instance_state': <sqlalchemy.orm.state.InstanceState object at 0x7f65dda683c8>, 'create_date': datetime.datetime(2019, 11, 6, 11, 5, 29), 'isoConteinerVazio': '45R0', 'idConteinerVazio': 'SUDU8082869', 'ID': 5, 'last_modified': datetime.datetime(2019, 11, 15, 12, 23, 57), 'taraConteinerVazio': '004580.000', 'manifesto': '2119501933520'}, {'_sa_instance_state': <sqlalchemy.orm.state.InstanceState object at 0x7f65dda68080>, 'create_date': datetime.datetime(2019, 11, 6, 11, 5, 29), 'isoConteinerVazio': '45R0', 'idConteinerVazio': 'SUDU8096203', 'ID': 4, 'last_modified': datetime.datetime(2019, 11, 15, 12, 23, 57), 'taraConteinerVazio': '004580.000', 'manifesto': '2119501933520'}, {'_sa_instance_state': <sqlalchemy.orm.state.InstanceState object at 0x7f65dda68198>, 'create_date': datetime.datetime(2019, 11, 6, 11, 5, 29), 'isoConteinerVazio': '45R0', 'idConteinerVazio': 'SUDU8124218', 'ID': 3, 'last_modified': datetime.datetime(2019, 11, 15, 12, 23, 57), 'taraConteinerVazio': '004580.000', 'manifesto': '2119501933520'}, {'_sa_instance_state': <sqlalchemy.orm.state.InstanceState object at 0x7f65dda67f98>, 'create_date': datetime.datetime(2019, 11, 6, 11, 5, 29), 'isoConteinerVazio': '45R0', 'idConteinerVazio': 'SUDU8249940', 'ID': 2, 'last_modified': datetime.datetime(2019, 11, 15, 12, 23, 57), 'taraConteinerVazio': '004560.000', 'manifesto': '2119501933520'}, {'_sa_instance_state': <sqlalchemy.orm.state.InstanceState object at 0x7f65dda67e48>, 'create_date': datetime.datetime(2019, 11, 6, 11, 5, 29), 'isoConteinerVazio': '45R0', 'idConteinerVazio': 'SUDU9311091', 'ID': 1, 'last_modified': datetime.datetime(2019, 11, 15, 12, 23, 57), 'taraConteinerVazio': '004590.000', 'manifesto': '2119501933520'}, {'_sa_instance_state': <sqlalchemy.orm.state.InstanceState object at 0x7f65dda67fd0>, 'create_date': datetime.datetime(2019, 11, 6, 11, 5, 29), 'isoConteinerVazio': '22G1', 'idConteinerVazio': 'TEMU2154042', 'ID': 6, 'last_modified': datetime.datetime(2019, 11, 15, 12, 23, 57), 'taraConteinerVazio': '002200.000', 'manifesto': '2119501933520'}]}\n"
     ]
    }
   ],
   "source": [
    "print(manifesto_carga(session, '2119501933520'))"
   ]
  },
  {
   "cell_type": "code",
   "execution_count": 121,
   "metadata": {
    "ExecuteTime": {
     "end_time": "2019-11-19T23:15:50.056046Z",
     "start_time": "2019-11-19T23:15:50.038830Z"
    }
   },
   "outputs": [
    {
     "name": "stdout",
     "output_type": "stream",
     "text": [
      "SELECT manifestosresumo.\"ID\", manifestosresumo.numero, manifestosresumo.\"codAgenciaInformante\", manifestosresumo.\"codigoEmpresaNavegacao\", manifestosresumo.\"codigoTerminalCarregamento\", manifestosresumo.\"codigoTerminalDescarregamento\", manifestosresumo.\"dataAtualizacao\", manifestosresumo.\"dataEncerramento\", manifestosresumo.\"dataInicioOperacao\", manifestosresumo.\"horaAtualizacao\", manifestosresumo.\"numeroImoDPC\", manifestosresumo.\"numeroViagem\", manifestosresumo.\"portoCarregamento\", manifestosresumo.\"portoDescarregamento\", manifestosresumo.\"quantidadeConhecimento\", manifestosresumo.\"tipoTrafego\", manifestosresumo.create_date, manifestosresumo.last_modified, manifestosresumo.\"dataInicioOperacaoDate\" \n",
      "FROM manifestosresumo \n",
      "WHERE manifestosresumo.numero = :numero_1\n"
     ]
    }
   ],
   "source": [
    "q = session.query(Manifesto).filter(Manifesto.numero == '1319501933641')\n",
    "print(q.statement)\n",
    "manifesto = q.one()"
   ]
  },
  {
   "cell_type": "code",
   "execution_count": 138,
   "metadata": {
    "ExecuteTime": {
     "end_time": "2019-11-19T23:22:34.259484Z",
     "start_time": "2019-11-19T23:22:34.203515Z"
    }
   },
   "outputs": [],
   "source": [
    "from marshmallow_sqlalchemy import ModelSchema\n",
    "\n",
    "class BaseSchema(ModelSchema):\n",
    "    \n",
    "    excluded_keys = ['create_date', 'last_modified',\n",
    "                    'dataInicioOperacaoDate']\n",
    "\n",
    "\n",
    "    def dump(self, objeto):\n",
    "        original = super().dump(objeto)\n",
    "        result = {}\n",
    "        for k, v in self.carga_fields.items():\n",
    "            result[k] = original.get(v)\n",
    "        return result\n",
    "\n",
    "class ManifestoSchema(BaseSchema):\n",
    "    carga_fields = \\\n",
    "      {'manifesto': 'numero',\n",
    "       'codigoportocarregamento': 'portoCarregamento',\n",
    "       'codigoportodescarregamento': 'portoDescarregamento',\n",
    "       'codigoterminalcarregamento': 'codigoTerminalCarregamento',\n",
    "       'codigoempresanavegacao': 'codigoEmpresaNavegacao',\n",
    "       'codigoterminaldescarregamento': 'codigoTerminalDescarregamento',\n",
    "       'codigoagencianavegacao': 'codAgenciaInformante'}\n",
    "    class Meta:\n",
    "        model = Manifesto\n",
    "        \n",
    "    def dump(self, manifesto):\n",
    "        result = super().dump(manifesto)\n",
    "        result['tipomanifesto'] = Enumerado.getTipoManifesto(session, manifesto.tipoTrafego)\n",
    "        return result\n",
    "\n",
    "class ConteinerVazioSchema(BaseSchema):\n",
    "    carga_fields = \\\n",
    "        {'container': 'idConteinerVazio',\n",
    "         'tara(kg)': 'taraConteinerVazio'}\n",
    "    class Meta:\n",
    "        model = ConteinerVazio\n",
    "        \n",
    "        \n",
    "        \n",
    "class ItemSchema(BaseSchema):\n",
    "    carga_fields = \\\n",
    "        {'container': 'codigoConteiner',\n",
    "        'item': 'numeroSequencialItemCarga',\n",
    "        'lacre': 'lacre',\n",
    "        'taracontainer': 'tara',\n",
    "        'volumeitem': 'cubagemM3',\n",
    "        'pesobrutoitem' : 'pesoBruto',\n",
    "        'indicadorusoparcial': 'indicadorUsoParcial',\n",
    "        # 'tipoItemCarga': \n",
    "        }\n",
    "    class Meta:\n",
    "        model = Item\n",
    "\n",
    "        \n",
    "class NCMItemSchema(BaseSchema):\n",
    "    carga_fields = \\\n",
    "        {'ncm': 'identificacaoNCM',\n",
    "        'item': 'numeroSequencialItemCarga',\n",
    "        'descricao': 'descritivo', \n",
    "        'embalagem': 'codigoTipoEmbalagem',\n",
    "        'madeira': 'itemEmbaladoMadeira',\n",
    "        'marca': 'marcaMercadoria',\n",
    "        'numeroidentificacao': 'numeroIdentificacao',\n",
    "         'qtdevolumes': 'qtdeVolumes'}\n",
    "    class Meta:\n",
    "        model = NCMItem\n",
    "        \n",
    "\n",
    "class ConhecimentoSchema(BaseSchema):\n",
    "    carga_fields = \\\n",
    "    {'conhecimento': 'numeroCEmercante',\n",
    "    'codigoagentenavegacao': 'codigoEmpresaNavegacao',\n",
    "    'cpfcnpjconsignatario': 'consignatario',\n",
    "    'cubagem': 'cubagem',\n",
    "    'dataemissao': 'dataEmissao',\n",
    "    'descricaomercadoria' : 'descricao',\n",
    "    'identificacaoembarcador': 'embarcador',\n",
    "    'manifesto': 'manifestoCE',\n",
    "    'paisdestino': 'paisDestinoFinalMercante',\n",
    "    'codigoportodestino': 'portoDestFinal',\n",
    "    'codigoportoorigem': 'portoOrigemCarga',\n",
    "    'tipo': 'tipoBLConhecimento'}\n",
    "\n",
    "    class Meta:\n",
    "        model = Conhecimento\n",
    "        \n",
    "manifesto_schema = ManifestoSchema()        \n",
    "conteinervazio_schema = ConteinerVazioSchema()\n",
    "item_schema = ItemSchema()\n",
    "ncmitem_schema = NCMItemSchema()\n",
    "conhecimento_schema= ConhecimentoSchema()\n",
    "\n",
    "\n"
   ]
  },
  {
   "cell_type": "code",
   "execution_count": 139,
   "metadata": {
    "ExecuteTime": {
     "end_time": "2019-11-19T23:22:35.244915Z",
     "start_time": "2019-11-19T23:22:35.238103Z"
    }
   },
   "outputs": [
    {
     "data": {
      "text/plain": [
       "{'manifesto': 'numero',\n",
       " 'codigoportocarregamento': 'portoCarregamento',\n",
       " 'codigoportodescarregamento': 'portoDescarregamento',\n",
       " 'codigoterminalcarregamento': 'codigoTerminalCarregamento',\n",
       " 'codigoempresanavegacao': 'codigoEmpresaNavegacao',\n",
       " 'codigoterminaldescarregamento': 'codigoTerminalDescarregamento',\n",
       " 'codigoagencianavegacao': 'codAgenciaInformante'}"
      ]
     },
     "execution_count": 139,
     "metadata": {},
     "output_type": "execute_result"
    }
   ],
   "source": [
    "carga_fields = \\\n",
    "      {'numero': 'manifesto',\n",
    "       'portoCarregamento': 'codigoportocarregamento',\n",
    "       'portoDescarregamento': 'codigoportodescarregamento',\n",
    "       'codigoTerminalCarregamento': 'codigoterminalcarregamento',\n",
    "       'codigoEmpresaNavegacao': 'codigoempresanavegacao',\n",
    "       'codigoTerminalDescarregamento': 'codigoterminaldescarregamento',\n",
    "       'codAgenciaInformante': 'codigoagencianavegacao'}\n",
    "{v:k for k, v in carga_fields.items()}"
   ]
  },
  {
   "cell_type": "code",
   "execution_count": 140,
   "metadata": {
    "ExecuteTime": {
     "end_time": "2019-11-19T23:22:36.736496Z",
     "start_time": "2019-11-19T23:22:36.728692Z"
    }
   },
   "outputs": [],
   "source": [
    "def manifesto_carga(session, numero):\n",
    "    dict_carga = {'vazio': True}\n",
    "    manifesto = session.query(Manifesto).filter(Manifesto.numero == numero).one()\n",
    "    dict_carga['manifesto'] = manifesto_schema.dump(manifesto)\n",
    "    conteineres = session.query(ConteinerVazio).filter(ConteinerVazio.manifesto == numero).all()\n",
    "    dict_carga['conteineres'] = [conteinervazio_schema.dump(conteiner)\n",
    "                                 for conteiner in conteineres]\n",
    "    return dict_carga"
   ]
  },
  {
   "cell_type": "code",
   "execution_count": 141,
   "metadata": {
    "ExecuteTime": {
     "end_time": "2019-11-19T23:22:37.407832Z",
     "start_time": "2019-11-19T23:22:37.382750Z"
    }
   },
   "outputs": [
    {
     "data": {
      "text/plain": [
       "{'vazio': True,\n",
       " 'manifesto': {'manifesto': '2119501933520',\n",
       "  'codigoportocarregamento': 'USORF',\n",
       "  'codigoportodescarregamento': 'BRRIG',\n",
       "  'codigoterminalcarregamento': '',\n",
       "  'codigoempresanavegacao': 'DK001046',\n",
       "  'codigoterminaldescarregamento': 'BRRIG005',\n",
       "  'codigoagencianavegacao': '43145945003715',\n",
       "  'tipomanifesto': 'lce'},\n",
       " 'conteineres': [{'container': 'MCAU8570508', 'tara(kg)': '004680.000'},\n",
       "  {'container': 'MNBU0018317', 'tara(kg)': '004640.000'},\n",
       "  {'container': 'MNBU0095720', 'tara(kg)': '004600.000'},\n",
       "  {'container': 'MNBU0124941', 'tara(kg)': '004490.000'},\n",
       "  {'container': 'MNBU0148500', 'tara(kg)': '004490.000'},\n",
       "  {'container': 'MNBU0203280', 'tara(kg)': '004570.000'},\n",
       "  {'container': 'MNBU0238116', 'tara(kg)': '004570.000'},\n",
       "  {'container': 'MNBU0238800', 'tara(kg)': '004570.000'},\n",
       "  {'container': 'MNBU0239956', 'tara(kg)': '004570.000'},\n",
       "  {'container': 'MNBU0310210', 'tara(kg)': '004380.000'},\n",
       "  {'container': 'MNBU0367330', 'tara(kg)': '004380.000'},\n",
       "  {'container': 'MNBU0465038', 'tara(kg)': '004380.000'},\n",
       "  {'container': 'MNBU0488603', 'tara(kg)': '004380.000'},\n",
       "  {'container': 'MNBU0492753', 'tara(kg)': '004330.000'},\n",
       "  {'container': 'MNBU0515798', 'tara(kg)': '004500.000'},\n",
       "  {'container': 'MNBU0516156', 'tara(kg)': '004500.000'},\n",
       "  {'container': 'MNBU0519833', 'tara(kg)': '004500.000'},\n",
       "  {'container': 'MNBU3075075', 'tara(kg)': '004420.000'},\n",
       "  {'container': 'MNBU3081421', 'tara(kg)': '004420.000'},\n",
       "  {'container': 'MNBU3284500', 'tara(kg)': '004420.000'},\n",
       "  {'container': 'MNBU3290822', 'tara(kg)': '004420.000'},\n",
       "  {'container': 'MNBU3314056', 'tara(kg)': '004300.000'},\n",
       "  {'container': 'MNBU3317116', 'tara(kg)': '004300.000'},\n",
       "  {'container': 'MNBU3363976', 'tara(kg)': '004300.000'},\n",
       "  {'container': 'MNBU3371781', 'tara(kg)': '004300.000'},\n",
       "  {'container': 'MNBU3519502', 'tara(kg)': '004420.000'},\n",
       "  {'container': 'MNBU3552096', 'tara(kg)': '004330.000'},\n",
       "  {'container': 'MNBU3559001', 'tara(kg)': '004330.000'},\n",
       "  {'container': 'MNBU3591662', 'tara(kg)': '004330.000'},\n",
       "  {'container': 'MNBU3703382', 'tara(kg)': '004330.000'},\n",
       "  {'container': 'MNBU3894967', 'tara(kg)': '004330.000'},\n",
       "  {'container': 'MNBU3901602', 'tara(kg)': '004330.000'},\n",
       "  {'container': 'MNBU3921276', 'tara(kg)': '004210.000'},\n",
       "  {'container': 'MNBU3944271', 'tara(kg)': '004210.000'},\n",
       "  {'container': 'MNBU4011537', 'tara(kg)': '004280.000'},\n",
       "  {'container': 'MNBU9083993', 'tara(kg)': '004520.000'},\n",
       "  {'container': 'MNBU9100895', 'tara(kg)': '004520.000'},\n",
       "  {'container': 'MRKU7021375', 'tara(kg)': '002170.000'},\n",
       "  {'container': 'MRKU9227724', 'tara(kg)': '002170.000'},\n",
       "  {'container': 'MRSU3773464', 'tara(kg)': '003720.000'},\n",
       "  {'container': 'MSKU3256877', 'tara(kg)': '002280.000'},\n",
       "  {'container': 'MSKU3640666', 'tara(kg)': '002300.000'},\n",
       "  {'container': 'MSKU6563898', 'tara(kg)': '003700.000'},\n",
       "  {'container': 'MSWU0109940', 'tara(kg)': '004520.000'},\n",
       "  {'container': 'MSWU9075218', 'tara(kg)': '004520.000'},\n",
       "  {'container': 'MWCU5307654', 'tara(kg)': '004640.000'},\n",
       "  {'container': 'MWCU6709811', 'tara(kg)': '004670.000'},\n",
       "  {'container': 'MWCU6778788', 'tara(kg)': '004670.000'},\n",
       "  {'container': 'MWCU6793360', 'tara(kg)': '004670.000'},\n",
       "  {'container': 'MWCU6865183', 'tara(kg)': '004400.000'},\n",
       "  {'container': 'MWMU6347672', 'tara(kg)': '004620.000'},\n",
       "  {'container': 'SUDU5124148', 'tara(kg)': '004580.000'},\n",
       "  {'container': 'SUDU5137567', 'tara(kg)': '004580.000'},\n",
       "  {'container': 'SUDU5162507', 'tara(kg)': '004660.000'},\n",
       "  {'container': 'SUDU6030399', 'tara(kg)': '004600.000'},\n",
       "  {'container': 'SUDU6049748', 'tara(kg)': '004580.000'},\n",
       "  {'container': 'SUDU6051534', 'tara(kg)': '004650.000'},\n",
       "  {'container': 'SUDU6079737', 'tara(kg)': '004600.000'},\n",
       "  {'container': 'SUDU6263810', 'tara(kg)': '004620.000'},\n",
       "  {'container': 'SUDU8082869', 'tara(kg)': '004580.000'},\n",
       "  {'container': 'SUDU8096203', 'tara(kg)': '004580.000'},\n",
       "  {'container': 'SUDU8124218', 'tara(kg)': '004580.000'},\n",
       "  {'container': 'SUDU8249940', 'tara(kg)': '004560.000'},\n",
       "  {'container': 'SUDU9311091', 'tara(kg)': '004590.000'},\n",
       "  {'container': 'TEMU2154042', 'tara(kg)': '002200.000'}]}"
      ]
     },
     "execution_count": 141,
     "metadata": {},
     "output_type": "execute_result"
    }
   ],
   "source": [
    "manifesto_carga(session, '2119501933520')"
   ]
  },
  {
   "cell_type": "code",
   "execution_count": 142,
   "metadata": {
    "ExecuteTime": {
     "end_time": "2019-11-19T23:22:39.033970Z",
     "start_time": "2019-11-19T23:22:39.028248Z"
    }
   },
   "outputs": [],
   "source": [
    "def conhecimento_carga(session, numero):\n",
    "    dict_carga = {'vazio': False}\n",
    "    conhecimento = session.query(Conhecimento).filter(Conhecimento.numeroCEmercante == numero).one()\n",
    "    dict_carga['manifesto'] = conhecimento_schema.dump(conhecimento)\n",
    "    itens = session.query(Item).filter(Item.numeroCEmercante == numero).all()\n",
    "    dict_carga['itens'] = [item_schema.dump(item)\n",
    "                                 for item in itens]\n",
    "    return dict_carga"
   ]
  },
  {
   "cell_type": "code",
   "execution_count": 143,
   "metadata": {
    "ExecuteTime": {
     "end_time": "2019-11-19T23:22:40.854260Z",
     "start_time": "2019-11-19T23:22:40.841819Z"
    }
   },
   "outputs": [
    {
     "data": {
      "text/plain": [
       "{'vazio': False,\n",
       " 'manifesto': {'conhecimento': '131905215824167',\n",
       "  'codigoagentenavegacao': '05951386001455',\n",
       "  'cpfcnpjconsignatario': '67405936000173',\n",
       "  'cubagem': '0000000076.000',\n",
       "  'dataemissao': '2019-08-20',\n",
       "  'descricaomercadoria': 'ALLOY WHEELS',\n",
       "  'identificacaoembarcador': 'CITIC DICASTAL CO., LTD  NO.185 LONGHAI AVE. ECONOMICAL & TECHNOLOGICAL DEV ZONE,  QINHUANGDAO CITY, HEBEI 066011, CHINA',\n",
       "  'manifesto': '1319501904706',\n",
       "  'paisdestino': '',\n",
       "  'codigoportodestino': 'BRRIO',\n",
       "  'codigoportoorigem': 'CNXGG',\n",
       "  'tipo': '12'},\n",
       " 'itens': [{'container': 'CMAU7454308',\n",
       "   'item': '0001',\n",
       "   'lacre': 'K1641131',\n",
       "   'taracontainer': '003700.000',\n",
       "   'volumeitem': '0000000015.000',\n",
       "   'pesobrutoitem': '000003395.000',\n",
       "   'indicadorusoparcial': 'false'},\n",
       "  {'container': 'TCNU9902444',\n",
       "   'item': '0002',\n",
       "   'lacre': 'K1635715',\n",
       "   'taracontainer': '003840.000',\n",
       "   'volumeitem': '0000000061.000',\n",
       "   'pesobrutoitem': '000014259.000',\n",
       "   'indicadorusoparcial': 'false'}]}"
      ]
     },
     "execution_count": 143,
     "metadata": {},
     "output_type": "execute_result"
    }
   ],
   "source": [
    "conhecimento_carga(session, '131905215824167')"
   ]
  }
 ],
 "metadata": {
  "kernelspec": {
   "display_name": "Python 3",
   "language": "python",
   "name": "python3"
  },
  "language_info": {
   "codemirror_mode": {
    "name": "ipython",
    "version": 3
   },
   "file_extension": ".py",
   "mimetype": "text/x-python",
   "name": "python",
   "nbconvert_exporter": "python",
   "pygments_lexer": "ipython3",
   "version": "3.6.9"
  }
 },
 "nbformat": 4,
 "nbformat_minor": 2
}
